{
 "cells": [
  {
   "attachments": {},
   "cell_type": "markdown",
   "metadata": {},
   "source": [
    "# Lake Formation Quicksight Group permissions\n",
    "This tool grant permissions to the quicksight groups to access Shared Data Lake resources as follows\n",
    "- Student Engagement\n",
    "- CRM\n",
    "- Blackboard"
   ]
  },
  {
   "attachments": {},
   "cell_type": "markdown",
   "metadata": {},
   "source": [
    "### Common Variables\n",
    "This cell defines the QuickSight group to provide permissions"
   ]
  },
  {
   "cell_type": "code",
   "execution_count": null,
   "metadata": {},
   "outputs": [],
   "source": [
    "# Quicksight_group_name = \"Student-Systems-Author\"\n",
    "Quicksight_group_name = \"Product-Devs-Author\""
   ]
  },
  {
   "attachments": {},
   "cell_type": "markdown",
   "metadata": {},
   "source": [
    "### Common Functions\n",
    "Make sure to run this cell to initialize the functions"
   ]
  },
  {
   "cell_type": "code",
   "execution_count": null,
   "metadata": {},
   "outputs": [],
   "source": [
    "import boto3\n",
    "\n",
    "\n",
    "def dest_grant_permissions_to_quicksight_group_on_database_table(\n",
    "    dest_database_name, dest_table_name, dest_quicksight_group_arn, dest_lakeformation\n",
    "):\n",
    "    \"\"\"Function to grant access permissions to quicksight group on databases and tables in destination account\"\"\"\n",
    "\n",
    "    print(f\"Granting access permissions to quicksight group on {dest_database_name} and {dest_table_name}\")\n",
    "    dest_lakeformation.grant_permissions(\n",
    "        Principal={\"DataLakePrincipalIdentifier\": dest_quicksight_group_arn},\n",
    "        Resource={\"Database\": {\"Name\": dest_database_name}},\n",
    "        Permissions=[\"DESCRIBE\"],\n",
    "        PermissionsWithGrantOption=[],\n",
    "    )\n",
    "\n",
    "    dest_lakeformation.grant_permissions(\n",
    "        Principal={\"DataLakePrincipalIdentifier\": dest_quicksight_group_arn},\n",
    "        Resource={\"Table\": {\"DatabaseName\": dest_database_name, \"Name\": dest_table_name}},\n",
    "        Permissions=[\"DESCRIBE\"],\n",
    "        PermissionsWithGrantOption=[],\n",
    "    )\n",
    "\n",
    "def dest_grant_permissions_to_quicksight_group_On_shared_table(\n",
    "    source_account_id, dest_quicksight_group_arn, source_database_name, source_table_name, dest_lakeformation\n",
    "):\n",
    "    \"\"\"Function to grant access permissions to quicksight role on shared table from source account\"\"\"\n",
    "\n",
    "    print(f\"Granting access permissions to quicksight role on shared table {source_table_name}\")\n",
    "    return dest_lakeformation.grant_permissions(\n",
    "        Principal={\"DataLakePrincipalIdentifier\": dest_quicksight_group_arn},\n",
    "        Resource={\n",
    "            \"Table\": {\"CatalogId\": source_account_id, \"DatabaseName\": source_database_name, \"Name\": source_table_name}\n",
    "        },\n",
    "        Permissions=[\"DESCRIBE\", \"SELECT\"],\n",
    "        PermissionsWithGrantOption=[],\n",
    "    )\n"
   ]
  },
  {
   "attachments": {},
   "cell_type": "markdown",
   "metadata": {},
   "source": [
    "## Student Engagement"
   ]
  },
  {
   "attachments": {},
   "cell_type": "markdown",
   "metadata": {},
   "source": [
    "### Student Engagement Prod"
   ]
  },
  {
   "cell_type": "code",
   "execution_count": null,
   "metadata": {},
   "outputs": [],
   "source": [
    "source_account_id = \"614744184116\"\n",
    "source_database_name = \"student_engagement_db\"\n",
    "source_table_name = \"student_engagement_risk_levels\"\n",
    "\n",
    "dest_profile_name= \"analytics-prod\"\n",
    "\n",
    "dest_database_name = \"student_engagement_db\"\n",
    "dest_table_name = \"student_engagement_risk_levels\"\n",
    "dest_quicksight_group_arn = \"arn:aws:quicksight:ap-southeast-2:271821871271:group/default/\" + Quicksight_group_name\n",
    "\n",
    "dest_session = boto3.Session(profile_name=dest_profile_name, region_name=\"ap-southeast-2\")\n",
    "dest_lakeformation = dest_session.client(\"lakeformation\")\n",
    "\n",
    "\n",
    "# Grant access permissions to quicksight group on database and tables in destination account\n",
    "dest_grant_permissions_to_quicksight_group_on_database_table(\n",
    "        dest_database_name, dest_table_name, dest_quicksight_group_arn, dest_lakeformation\n",
    "    )\n",
    "\n",
    "# Grant access permissions to quicksight group on source account shared table\n",
    "dest_grant_permissions_to_quicksight_group_On_shared_table(\n",
    "        source_account_id, dest_quicksight_group_arn, source_database_name, source_table_name, dest_lakeformation\n",
    "    )"
   ]
  },
  {
   "attachments": {},
   "cell_type": "markdown",
   "metadata": {},
   "source": [
    "### Student Engagement Dev"
   ]
  },
  {
   "cell_type": "code",
   "execution_count": null,
   "metadata": {},
   "outputs": [],
   "source": [
    "source_account_id = \"433802108761\"\n",
    "source_database_name = \"student_engagement_db\"\n",
    "source_table_name = \"student_engagement_risk_levels\"\n",
    "\n",
    "dest_profile_name= \"analytics-dev\"\n",
    "dest_database_name = \"student_engagement_db\"\n",
    "dest_table_name = \"student_engagement_risk_levels\"\n",
    "dest_quicksight_group_arn = \"arn:aws:quicksight:ap-southeast-2:892988355045:group/default/\" + Quicksight_group_name\n",
    "\n",
    "dest_session = boto3.Session(profile_name=dest_profile_name, region_name=\"ap-southeast-2\")\n",
    "dest_lakeformation = dest_session.client(\"lakeformation\")\n",
    "\n",
    "\n",
    "# Grant access permissions to quicksight group on database and tables in destination account\n",
    "dest_grant_permissions_to_quicksight_group_on_database_table(\n",
    "        dest_database_name, dest_table_name, dest_quicksight_group_arn, dest_lakeformation\n",
    "    )\n",
    "\n",
    "# Grant access permissions to quicksight group on source account shared table\n",
    "dest_grant_permissions_to_quicksight_group_On_shared_table(\n",
    "        source_account_id, dest_quicksight_group_arn, source_database_name, source_table_name, dest_lakeformation\n",
    "    )"
   ]
  },
  {
   "attachments": {},
   "cell_type": "markdown",
   "metadata": {},
   "source": [
    "## CRM"
   ]
  },
  {
   "attachments": {},
   "cell_type": "markdown",
   "metadata": {},
   "source": [
    "### CRM Prod"
   ]
  },
  {
   "cell_type": "code",
   "execution_count": null,
   "metadata": {},
   "outputs": [],
   "source": [
    "source_account_id = \"614744184116\"\n",
    "source_database_name = \"dp_main_crm_student_contact_db\"\n",
    "source_table_name = \"crm_student_contact_crm_student_contact\"\n",
    "\n",
    "dest_profile_name= \"analytics-prod\"\n",
    "\n",
    "dest_database_name = \"dp_main_crm_student_contact_db\"\n",
    "dest_table_name = \"student_interactions\"\n",
    "dest_quicksight_group_arn = \"arn:aws:quicksight:ap-southeast-2:271821871271:group/default/\" + Quicksight_group_name\n",
    "\n",
    "dest_session = boto3.Session(profile_name=dest_profile_name, region_name=\"ap-southeast-2\")\n",
    "dest_lakeformation = dest_session.client(\"lakeformation\")\n",
    "\n",
    "\n",
    "# Grant access permissions to quicksight group on database and tables in destination account\n",
    "dest_grant_permissions_to_quicksight_group_on_database_table(\n",
    "        dest_database_name, dest_table_name, dest_quicksight_group_arn, dest_lakeformation\n",
    "    )\n",
    "\n",
    "# Grant access permissions to quicksight group on source account shared table\n",
    "dest_grant_permissions_to_quicksight_group_On_shared_table(\n",
    "        source_account_id, dest_quicksight_group_arn, source_database_name, source_table_name, dest_lakeformation\n",
    "    )"
   ]
  },
  {
   "attachments": {},
   "cell_type": "markdown",
   "metadata": {},
   "source": [
    "### CRM Dev"
   ]
  },
  {
   "cell_type": "code",
   "execution_count": null,
   "metadata": {},
   "outputs": [],
   "source": [
    "source_account_id = \"433802108761\"\n",
    "source_database_name = \"dp_main_crm_student_contact_db\"\n",
    "source_table_name = \"crm_student_contact_crm_student_contact\"\n",
    "\n",
    "dest_profile_name= \"analytics-dev\"\n",
    "\n",
    "dest_database_name = \"dp_main_crm_student_contact_db\"\n",
    "dest_table_name = \"student_interactions\"\n",
    "dest_quicksight_group_arn = \"arn:aws:quicksight:ap-southeast-2:892988355045:group/default/\" + Quicksight_group_name\n",
    "\n",
    "dest_session = boto3.Session(profile_name=dest_profile_name, region_name=\"ap-southeast-2\")\n",
    "dest_lakeformation = dest_session.client(\"lakeformation\")\n",
    "\n",
    "\n",
    "# Grant access permissions to quicksight group on database and tables in destination account\n",
    "dest_grant_permissions_to_quicksight_group_on_database_table(\n",
    "        dest_database_name, dest_table_name, dest_quicksight_group_arn, dest_lakeformation\n",
    "    )\n",
    "\n",
    "# Grant access permissions to quicksight group on source account shared table\n",
    "dest_grant_permissions_to_quicksight_group_On_shared_table(\n",
    "        source_account_id, dest_quicksight_group_arn, source_database_name, source_table_name, dest_lakeformation\n",
    "    )"
   ]
  },
  {
   "attachments": {},
   "cell_type": "markdown",
   "metadata": {},
   "source": [
    "## Blackboard"
   ]
  },
  {
   "attachments": {},
   "cell_type": "markdown",
   "metadata": {},
   "source": [
    "### Blackboard Prod"
   ]
  },
  {
   "cell_type": "code",
   "execution_count": null,
   "metadata": {},
   "outputs": [],
   "source": [
    "source_account_id = \"614744184116\"\n",
    "source_database_name = \"dp_main_blackboard_learn_db\"\n",
    "source_table_name = \"blackboard_learn_blackboard_learn\"\n",
    "\n",
    "dest_profile_name= \"analytics-prod\"\n",
    "dest_database_name = \"dp_main_blackboard_learn_db\"\n",
    "dest_table_name = \"blackboard_learn_sessions\"\n",
    "dest_quicksight_group_arn = \"arn:aws:quicksight:ap-southeast-2:271821871271:group/default/\" + Quicksight_group_name\n",
    "\n",
    "dest_session = boto3.Session(profile_name=dest_profile_name, region_name=\"ap-southeast-2\")\n",
    "dest_lakeformation = dest_session.client(\"lakeformation\")\n",
    "\n",
    "\n",
    "# Grant access permissions to quicksight group on database and tables in destination account\n",
    "dest_grant_permissions_to_quicksight_group_on_database_table(\n",
    "        dest_database_name, dest_table_name, dest_quicksight_group_arn, dest_lakeformation\n",
    "    )\n",
    "\n",
    "# Grant access permissions to quicksight group on source account shared table\n",
    "dest_grant_permissions_to_quicksight_group_On_shared_table(\n",
    "        source_account_id, dest_quicksight_group_arn, source_database_name, source_table_name, dest_lakeformation\n",
    "    )"
   ]
  },
  {
   "attachments": {},
   "cell_type": "markdown",
   "metadata": {},
   "source": [
    "### Blackboard Dev"
   ]
  },
  {
   "cell_type": "code",
   "execution_count": null,
   "metadata": {},
   "outputs": [],
   "source": [
    "source_account_id = \"433802108761\"\n",
    "source_database_name = \"dp_main_blackboard_learn_db\"\n",
    "source_table_name = \"blackboard_learn_blackboard_learn\"\n",
    "\n",
    "dest_profile_name= \"analytics-dev\"\n",
    "dest_database_name = \"dp_main_blackboard_learn_db\"\n",
    "dest_table_name = \"blackboard_learn_sessions\"\n",
    "dest_quicksight_group_arn = \"arn:aws:quicksight:ap-southeast-2:892988355045:group/default/\" + Quicksight_group_name\n",
    "\n",
    "dest_session = boto3.Session(profile_name=dest_profile_name, region_name=\"ap-southeast-2\")\n",
    "dest_lakeformation = dest_session.client(\"lakeformation\")\n",
    "\n",
    "\n",
    "# Grant access permissions to quicksight group on database and tables in destination account\n",
    "dest_grant_permissions_to_quicksight_group_on_database_table(\n",
    "        dest_database_name, dest_table_name, dest_quicksight_group_arn, dest_lakeformation\n",
    "    )\n",
    "\n",
    "# Grant access permissions to quicksight group on source account shared table\n",
    "dest_grant_permissions_to_quicksight_group_On_shared_table(\n",
    "        source_account_id, dest_quicksight_group_arn, source_database_name, source_table_name, dest_lakeformation\n",
    "    )"
   ]
  },
  {
   "cell_type": "code",
   "execution_count": null,
   "metadata": {},
   "outputs": [],
   "source": []
  }
 ],
 "metadata": {
  "kernelspec": {
   "display_name": "analytics",
   "language": "python",
   "name": "python3"
  },
  "language_info": {
   "codemirror_mode": {
    "name": "ipython",
    "version": 3
   },
   "file_extension": ".py",
   "mimetype": "text/x-python",
   "name": "python",
   "nbconvert_exporter": "python",
   "pygments_lexer": "ipython3",
   "version": "3.10.4"
  },
  "orig_nbformat": 4
 },
 "nbformat": 4,
 "nbformat_minor": 2
}
