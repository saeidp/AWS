{
 "cells": [
  {
   "attachments": {},
   "cell_type": "markdown",
   "metadata": {},
   "source": [
    "# Quicksight Migration "
   ]
  },
  {
   "attachments": {},
   "cell_type": "markdown",
   "metadata": {},
   "source": [
    "### How to Migrate Quicksight Artefacts between two accounts/environments\n",
    "**https://vipulbhatia.medium.com/aws-quicksight-migration-between-accounts-workflow-3b543cbc6d95**"
   ]
  },
  {
   "attachments": {},
   "cell_type": "markdown",
   "metadata": {},
   "source": [
    "### Instruction Manual\n",
    "\n",
    "1. Proceed each step in the sequence mentioned in this notebook.\n",
    "2. Get the programmatic access for the accounts and update the variables in cell#2 for Source Account and cell#3 for Target Account.\n",
    "3. Set the Variables in cell#6 for the analysis and dashboard being migrated.\n",
    "4. This notebook enables the migration for Analyses, Dashboards, and their corresponding datasets.\n",
    "5. The pre-requisite for the dashboard is availability of a json formatted file that has cross-reference for the datasources in teh form of datasource Ids for each environment as stated in the example: {\"dsn\": [{\"name\": \"Athena\", \"prod\": \"cXXXXXXX-fXXX-4XXX-8XXX-6XXXXXXXXX\", \"test\": \"cXXXXXXX-fXXX-4XXX-8XXX-6XXXXXXXXX\", \"dev\": \"cXXXXXXX-fXXX-4XXX-8XXX-6XXXXXXXXX\"}]}\n",
    "The lookup is based on the name and the items present with the keys ('prod', 'test' ,'dev') prod: Production, test: Test, dev: Development"
   ]
  },
  {
   "attachments": {},
   "cell_type": "markdown",
   "metadata": {},
   "source": [
    "## Begin Process Execution"
   ]
  },
  {
   "cell_type": "code",
   "execution_count": null,
   "metadata": {},
   "outputs": [],
   "source": [
    "import os\n",
    "import boto3\n",
    "import io\n",
    "import gc\n",
    "import awswrangler as wr\n",
    "import sys\n",
    "import time\n",
    "import json"
   ]
  },
  {
   "attachments": {},
   "cell_type": "markdown",
   "metadata": {},
   "source": [
    "## 1- Initialize the variables and Instantiate the QuickSight Clients using boto3"
   ]
  },
  {
   "attachments": {},
   "cell_type": "markdown",
   "metadata": {},
   "source": [
    "### Generate the instances for resource session and client"
   ]
  },
  {
   "cell_type": "code",
   "execution_count": null,
   "metadata": {},
   "outputs": [],
   "source": [
    "source_session =  boto3.Session(profile_name= 'analytics-test', region_name='ap-southeast-2')\n",
    "client = source_session.client('quicksight')\n",
    "\n",
    "# Configure destination client\n",
    "tgt_session =  boto3.Session(profile_name= 'analytics-dev', region_name='ap-southeast-2')\n",
    "tgt_client = tgt_session.client('quicksight')\n",
    "\n",
    "\n"
   ]
  },
  {
   "attachments": {},
   "cell_type": "markdown",
   "metadata": {},
   "source": [
    "### Set the variables for the source and target"
   ]
  },
  {
   "cell_type": "code",
   "execution_count": null,
   "metadata": {},
   "outputs": [],
   "source": [
    "v_src_account_id='888142126615'\n",
    "v_analysis_id='07f040fd-6648-48e5-971c-fe04962874ce'\n",
    "v_tgt_account_id='892988355045'\n",
    "v_src_env='test'\n",
    "v_target_env='dev'\n",
    "v_role='AWSReservedSSO_AWSAdministratorAccess_09b685eec4a90b99'\n",
    "v_user='PA.285833D@curtin.edu.au'\n"
   ]
  },
  {
   "attachments": {},
   "cell_type": "markdown",
   "metadata": {},
   "source": [
    "## 2- Analysis"
   ]
  },
  {
   "attachments": {},
   "cell_type": "markdown",
   "metadata": {},
   "source": [
    "### Extract the source analysis properties based on the analysis id set in the variables"
   ]
  },
  {
   "cell_type": "code",
   "execution_count": null,
   "metadata": {},
   "outputs": [],
   "source": [
    "\"\"\"\n",
    "Get the source Analysis ID using analysis name\n",
    "\"\"\"\n",
    "analysisId=''\n",
    "analysisArn=''\n",
    "analysisName=''\n",
    "analyses = client.list_analyses(\n",
    "    AwsAccountId=v_src_account_id,\n",
    "    MaxResults=100\n",
    ")\n",
    "v_analysis = []\n",
    "y = [(member['Arn'],member['AnalysisId'],member['Name'], member['Status'],member['CreatedTime'],member['LastUpdatedTime']) for member in analyses[\"AnalysisSummaryList\"] ]\n",
    "v_analysis.extend(y)\n",
    "while 'NextToken' in analyses:\n",
    "        analyses = client.list_analyses(\n",
    "            AwsAccountId=v_src_account_id,\n",
    "            MaxResults=100,\n",
    "            NextToken=analyses['NextToken']\n",
    "            )\n",
    "        y = [(member['Arn'],member['AnalysisId'],member['Name'] if ('Name' in member.keys()) else \"\", member['Status'],member['CreatedTime'],member['LastUpdatedTime']) for member in analyses[\"AnalysisSummaryList\"] ]\n",
    "        v_analysis.extend(y)\n",
    "        #i+=len(analyses.get('AnalysisSummaryList'))\n",
    "#print(\"Number of Analyses: \" + str(i))\n",
    "for analysis in v_analysis:    \n",
    "    if analysis[1]==v_analysis_id and analysis[3].find('_SUCCESSFUL')!=-1 and analysis[3].find('DELETE')==-1:\n",
    "        analysisId=analysis[1]\n",
    "        analysisName=analysis[2]\n",
    "        analysisArn=analysis[0]\n",
    "        break\n",
    "        \n",
    "src_analysisId=analysisId\n",
    "src_analysis_arn=analysisArn\n",
    "src_analysis_name=analysisName"
   ]
  },
  {
   "cell_type": "code",
   "execution_count": null,
   "metadata": {},
   "outputs": [],
   "source": [
    "print(\"src_analysis_id is: {id}\\nsrc_analysis_arn is: {arn}\\nsrc_analysis_name is: {name}\".format(id = src_analysisId,arn=src_analysis_arn,name=src_analysis_name))\n"
   ]
  },
  {
   "cell_type": "code",
   "execution_count": null,
   "metadata": {},
   "outputs": [],
   "source": [
    "\"\"\"\n",
    "Get the target Analysis ID using analysis name\n",
    "\"\"\"\n",
    "analysisId=''\n",
    "analysisArn=''\n",
    "analysisName=''\n",
    "\n",
    "tgt_analysisId=''\n",
    "tgt_analysis_arn=''\n",
    "tgt_analysis_name=''\n",
    "\n",
    "analyses = tgt_client.list_analyses(\n",
    "    AwsAccountId=v_tgt_account_id,\n",
    "    MaxResults=100\n",
    ")\n",
    "v_analysis = []\n",
    "y = [(member['Arn'],member['AnalysisId'],member['Name'], member['Status'],member['CreatedTime'],member['LastUpdatedTime']) for member in analyses[\"AnalysisSummaryList\"] ]\n",
    "v_analysis.extend(y)\n",
    "while 'NextToken' in analyses:\n",
    "        analyses = tgt_client.list_analyses(\n",
    "            AwsAccountId=v_tgt_account_id,\n",
    "            MaxResults=100,\n",
    "            NextToken=analyses['NextToken']\n",
    "            )\n",
    "        y = [(member['Arn'],member['AnalysisId'],member['Name'] if ('Name' in member.keys()) else \"\", member['Status'],member['CreatedTime'],member['LastUpdatedTime']) for member in analyses[\"AnalysisSummaryList\"] ]\n",
    "        v_analysis.extend(y)\n",
    "        #i+=len(analyses.get('AnalysisSummaryList'))\n",
    "#print(\"Number of Analyses: \" + str(i))\n",
    "for analysis in v_analysis:    \n",
    "    if analysis[1]==v_analysis_id and analysis[3].find('_SUCCESSFUL')!=-1 and analysis[3].find('DELETE')==-1:\n",
    "        analysisId=analysis[1]\n",
    "        analysisArn=analysis[0]\n",
    "        analysisName=analysis[2]\n",
    "        break\n",
    "\n",
    "\n",
    "if analysisId:\n",
    "    tgt_analysisId=analysisId\n",
    "    tgt_analysis_arn=analysisArn\n",
    "    tgt_analysis_name=analysisName"
   ]
  },
  {
   "cell_type": "code",
   "execution_count": null,
   "metadata": {},
   "outputs": [],
   "source": [
    "print(\"tgt_analysisId is: {id}\\ntgt_analysis_arn is: {arn}\\ntgt_analysis_name is: {name}\".format(id = tgt_analysisId,arn=tgt_analysis_arn,name=tgt_analysis_name))  "
   ]
  },
  {
   "attachments": {},
   "cell_type": "markdown",
   "metadata": {},
   "source": [
    "### Set the Template Name"
   ]
  },
  {
   "cell_type": "code",
   "execution_count": null,
   "metadata": {},
   "outputs": [],
   "source": [
    "v_template_name=src_analysisId.replace(\" \",\"\")+\"_MigrationTemplate\""
   ]
  },
  {
   "attachments": {},
   "cell_type": "markdown",
   "metadata": {},
   "source": [
    "### Get the list of Datasets attached to the analysis"
   ]
  },
  {
   "cell_type": "code",
   "execution_count": null,
   "metadata": {},
   "outputs": [],
   "source": [
    "###Get the description of analysis. This will tell us all the datasets that the analysis use\n",
    "src_analysis_desc=client.describe_analysis(\n",
    "    AwsAccountId=v_src_account_id,\n",
    "    AnalysisId=src_analysisId\n",
    ")"
   ]
  },
  {
   "cell_type": "code",
   "execution_count": null,
   "metadata": {},
   "outputs": [],
   "source": [
    "print(src_analysis_desc)"
   ]
  },
  {
   "attachments": {},
   "cell_type": "markdown",
   "metadata": {},
   "source": [
    "### Get the IDs for all the datasets and store in a dictionary"
   ]
  },
  {
   "cell_type": "code",
   "execution_count": null,
   "metadata": {},
   "outputs": [],
   "source": [
    "###Extract the dataset ARNs and Ids in 2 dictionaries.\n",
    "v_src_DatasetArn_Dict={}\n",
    "v_src_DatasetArn_Id={}\n",
    "v_src_DatasetName={}\n",
    "\n",
    "datasets = client.list_data_sets(\n",
    "    AwsAccountId=v_src_account_id,\n",
    "    MaxResults=100\n",
    ")  \n",
    "\n",
    "v_datasets = []\n",
    "y = [(member['Arn'],member['DataSetId'],member['Name'], member['CreatedTime'],member['LastUpdatedTime']) for member in datasets[\"DataSetSummaries\"] ]\n",
    "v_datasets.extend(y)\n",
    "while 'NextToken' in datasets:\n",
    "        datasets = client.list_data_sets(\n",
    "            AwsAccountId=v_src_account_id,\n",
    "            MaxResults=100,\n",
    "            NextToken=datasets['NextToken']\n",
    "            )\n",
    "        y = [(member['Arn'],member['DataSetId'],member['Name'] if ('Name' in member.keys()) else \"\", member['CreatedTime'],member['LastUpdatedTime']) for member in datasets[\"DataSetSummaries\"] ]\n",
    "        v_datasets.extend(y)\n",
    "\n",
    "\n",
    "for src_analysis_dataset in src_analysis_desc['Analysis']['DataSetArns']:\n",
    "    for dataset in v_datasets:    \n",
    "        if dataset[0]==src_analysis_dataset:\n",
    "            v_src_DatasetArn_Dict[src_analysis_dataset]=dataset[0]\n",
    "            v_src_DatasetArn_Id[src_analysis_dataset]=dataset[1]\n",
    "            v_src_DatasetName[src_analysis_dataset]=dataset[2]"
   ]
  },
  {
   "cell_type": "code",
   "execution_count": null,
   "metadata": {},
   "outputs": [],
   "source": [
    "print(v_src_DatasetArn_Dict)\n",
    "print(v_src_DatasetArn_Id)\n",
    "print(v_src_DatasetName)"
   ]
  },
  {
   "cell_type": "code",
   "execution_count": null,
   "metadata": {},
   "outputs": [],
   "source": [
    "\"\"\"\n",
    "##convert this into a loop. we can have multiple datasets in an analysis\n",
    "datasets = client.list_data_sets(\n",
    "    AwsAccountId=v_src_account_id,\n",
    "    MaxResults=100\n",
    ")  \n",
    "\n",
    "v_datasets = []\n",
    "y = [(member['Arn'],member['DataSetId'],member['Name'], member['CreatedTime'],member['LastUpdatedTime']) for member in datasets[\"DataSetSummaries\"] ]\n",
    "v_datasets.extend(y)\n",
    "while 'NextToken' in datasets:\n",
    "        datasets = client.list_data_sets(\n",
    "            AwsAccountId=v_src_account_id,\n",
    "            MaxResults=100,\n",
    "            NextToken=datasets['NextToken']\n",
    "            )\n",
    "        y = [(member['Arn'],member['DataSetId'],member['Name'] if ('Name' in member.keys()) else \"\", member['CreatedTime'],member['LastUpdatedTime']) for member in datasets[\"DataSetSummaries\"] ]\n",
    "        v_datasets.extend(y)\n",
    "        #i+=len(datasets.get('DataSetSummaries'))\n",
    "#print(\"Number of Analyses: \" + str(i))\n",
    "for dataset in v_datasets:    \n",
    "    if dataset[0]==analysis['Analysis']['DataSetArns'][0]:\n",
    "        datasetArn=dataset[0]\n",
    "        datasetId=dataset[1]\n",
    "        break\n",
    "\"\"\"        "
   ]
  },
  {
   "attachments": {},
   "cell_type": "markdown",
   "metadata": {},
   "source": [
    "### Generate the unique ARNs datasets and store in a list. These ARNs will then be used to create the template for the target"
   ]
  },
  {
   "cell_type": "code",
   "execution_count": null,
   "metadata": {},
   "outputs": [],
   "source": [
    "src_dataset_ARN_list=[]\n",
    "n=0\n",
    "for item in v_src_DatasetArn_Dict:\n",
    "    n=n+1\n",
    "    ##dict(DataSetPlaceholder=v_analysis_name.replace(\" \",\"\")+\"_MigrationTemplateARN\"+str(n),DataSetArn=item)\n",
    "    src_dataset_ARN_list.append(dict(DataSetPlaceholder=src_analysisId.replace(\" \",\"\")+\"_MigrationTemplateARN\"+str(n),DataSetArn=item))\n"
   ]
  },
  {
   "cell_type": "code",
   "execution_count": null,
   "metadata": {},
   "outputs": [],
   "source": [
    "print(src_dataset_ARN_list)"
   ]
  },
  {
   "attachments": {},
   "cell_type": "markdown",
   "metadata": {},
   "source": [
    "## 3- Create the Template"
   ]
  },
  {
   "attachments": {},
   "cell_type": "markdown",
   "metadata": {},
   "source": [
    "###  Check if the template already exists. If the template already exists, update it, else create it"
   ]
  },
  {
   "cell_type": "code",
   "execution_count": null,
   "metadata": {},
   "outputs": [],
   "source": [
    "templateArn=''\n",
    "templateId=''\n",
    "templateName=''\n",
    "\n",
    "templates = client.list_templates(\n",
    "    AwsAccountId=v_src_account_id,\n",
    "    MaxResults=100\n",
    ")\n",
    "\n",
    "\n",
    "v_templates = []\n",
    "y = [(member['Arn'],member['TemplateId'],member['Name'], member['LatestVersionNumber'],member['CreatedTime'],member['LastUpdatedTime']) for member in templates[\"TemplateSummaryList\"] ]\n",
    "v_templates.extend(y)\n",
    "while 'NextToken' in templates:\n",
    "        templates = client.list_templates(\n",
    "            AwsAccountId=v_src_account_id,\n",
    "            MaxResults=100,\n",
    "            NextToken=templates['NextToken']\n",
    "            )\n",
    "        y = [(member['Arn'],member['TemplateId'],member['Name'] if ('Name' in member.keys()) else \"\", member['LatestVersionNumber'],member['CreatedTime'],member['LastUpdatedTime']) for member in templates[\"TemplateSummaryList\"] ]\n",
    "        v_templates.extend(y)\n",
    "        #i+=len(templates.get('TemplateSummaryList'))\n",
    "#print(\"Number of Analyses: \" + str(i))\n",
    "for template in v_templates:    \n",
    "    if template[1]==v_template_name:\n",
    "        templateArn=template[0]\n",
    "        templateId=template[1]\n",
    "        templateName=template[2]             \n",
    "        break\n",
    "        \n",
    "if templateArn:\n",
    "    print(\"updating template\")\n",
    "    updateTemplate = client.update_template(\n",
    "        AwsAccountId=v_src_account_id,\n",
    "        TemplateId=v_template_name,\n",
    "        SourceEntity={\n",
    "            'SourceAnalysis': {\n",
    "                'Arn': src_analysis_arn,\n",
    "                'DataSetReferences': src_dataset_ARN_list\n",
    "            }\n",
    "        }\n",
    "    )\n",
    "else:\n",
    "    print(\"creating template\")\n",
    "    createTemplate=client.create_template(\n",
    "        AwsAccountId=v_src_account_id,\n",
    "        TemplateId=v_template_name,\n",
    "        Name= src_analysis_name, \n",
    "        SourceEntity={\n",
    "            'SourceAnalysis': {\n",
    "                'Arn': src_analysis_arn,\n",
    "                'DataSetReferences': src_dataset_ARN_list\n",
    "            }\n",
    "        }\n",
    "    )   "
   ]
  },
  {
   "cell_type": "code",
   "execution_count": null,
   "metadata": {},
   "outputs": [],
   "source": [
    "try:\n",
    "    print(\"CreateTemplateARN: \"+createTemplate['Arn'])\n",
    "except:\n",
    "    print(\"UpdateTemplateARN: \"+updateTemplate['Arn'])"
   ]
  },
  {
   "cell_type": "code",
   "execution_count": null,
   "metadata": {},
   "outputs": [],
   "source": [
    "###Backup\n",
    "\"\"\"\n",
    "createTemplate=client.create_template(\n",
    "    AwsAccountId='462393762422',\n",
    "    TemplateId='ProductionOverviewTemplate_Migration',\n",
    "    SourceEntity={\n",
    "        'SourceAnalysis': {\n",
    "            'Arn': analysisArn,\n",
    "            'DataSetReferences': [\n",
    "                {\n",
    "                    'DataSetPlaceholder': 'ProductionOverview_DSPH_Migration',\n",
    "                    'DataSetArn': datasetArn\n",
    "                },\n",
    "            ]\n",
    "        }\n",
    "    }\n",
    ")\"\"\""
   ]
  },
  {
   "attachments": {},
   "cell_type": "markdown",
   "metadata": {},
   "source": [
    "### Confirm if the template has been created. You can modify template permissions only if it has been successfully created."
   ]
  },
  {
   "attachments": {},
   "cell_type": "markdown",
   "metadata": {},
   "source": [
    "Template permissions should be updated on the source account template to provide access to the Target account"
   ]
  },
  {
   "cell_type": "code",
   "execution_count": null,
   "metadata": {},
   "outputs": [],
   "source": [
    "#Use this to check if the template has been created successfully. If yes, then move to the next step of listing and updating permissions\n",
    "template_desc=client.describe_template(\n",
    "    AwsAccountId=v_src_account_id,\n",
    "    TemplateId=v_template_name,\n",
    "    #VersionNumber=123,\n",
    "    #AliasName='string'\n",
    ")\n",
    "\n",
    "if template_desc['Template']['Version']['Status'].find('_SUCCESSFUL')==-1:\n",
    "    time.sleep(120)\n",
    "    template_desc=client.describe_template(\n",
    "        AwsAccountId=v_src_account_id,\n",
    "        TemplateId=v_template_name,\n",
    "        #VersionNumber=123,\n",
    "        #AliasName='string'\n",
    "    )    \n",
    "    if template_desc['Template']['Version']['Status'].find('_SUCCESSFUL')==-1:\n",
    "        print(\"Template could not be successfully created. Please check the configurations and re-execute the steps\")\n",
    "    else:\n",
    "        print(\"Template was succefully created. Proceeding with the next step of updating permissions.\")\n",
    "        updateTemplate = client.update_template_permissions(\n",
    "            AwsAccountId=v_src_account_id,\n",
    "            TemplateId=v_template_name,\n",
    "            GrantPermissions=[\n",
    "                {\n",
    "                    \"Principal\": \"arn:aws:iam::\"+v_tgt_account_id+\":root\",\n",
    "                    'Actions': [\"quicksight:UpdateTemplatePermissions\",\"quicksight:DescribeTemplate\"]\n",
    "                },\n",
    "            ]\n",
    "        )\n",
    "else:\n",
    "    updateTemplate = client.update_template_permissions(\n",
    "    AwsAccountId=v_src_account_id,\n",
    "    TemplateId=v_template_name,\n",
    "    GrantPermissions=[\n",
    "        {\n",
    "            \"Principal\": \"arn:aws:iam::\"+v_tgt_account_id+\":root\",\n",
    "            'Actions': [\"quicksight:UpdateTemplatePermissions\",\"quicksight:DescribeTemplate\"]\n",
    "        },\n",
    "    ]\n",
    ")\n",
    "\n",
    "    \n",
    "\n",
    "#dict_keys(['Arn', 'Version', 'TemplateId', 'LastUpdatedTime', 'CreatedTime'])"
   ]
  },
  {
   "cell_type": "code",
   "execution_count": null,
   "metadata": {},
   "outputs": [],
   "source": [
    "## Validate the response. Ensure that the template permissions have been updated in \"Permissions\" node.\n",
    "print(updateTemplate['Permissions'])"
   ]
  },
  {
   "cell_type": "code",
   "execution_count": null,
   "metadata": {},
   "outputs": [],
   "source": [
    "####We can remove this part\n",
    "for key in v_src_DatasetArn_Id:\n",
    "    \n",
    "    dict_physical_table_map=client.describe_data_set(\n",
    "        AwsAccountId=v_src_account_id,\n",
    "        DataSetId=v_src_DatasetArn_Id[key])['DataSet']['PhysicalTableMap']\n",
    "\n",
    "    distinct_dsn = set()\n",
    "\n",
    "    for i in dict_physical_table_map.keys():\n",
    "        for j in dict_physical_table_map[i].keys():\n",
    "            for k in dict_physical_table_map[i][j].keys():\n",
    "                if k=='DataSourceArn':\n",
    "                    distinct_dsn.add(dict_physical_table_map[i][j]['DataSourceArn'])\n",
    "\n",
    "\n",
    "    distinct_source_dsn_set=set()\n",
    "    distinct_source_dsnid_set=set()\n",
    "    distinct_target_dsn_set=set()\n",
    "\n",
    "\n",
    "    for dsn in distinct_dsn:\n",
    "\n",
    "        datasources = client.list_data_sources(\n",
    "            AwsAccountId=v_src_account_id, ##Replace this with Target Account\n",
    "            MaxResults=100\n",
    "        )\n",
    "\n",
    "        v_datasources = []\n",
    "        y = [(member['Arn'],member['DataSourceId'],member['Name'], member['CreatedTime'],member['LastUpdatedTime'],member['Type']) for member in datasources[\"DataSources\"] ]\n",
    "        v_datasources.extend(y)\n",
    "        while 'NextToken' in datasources:\n",
    "                datasources = client.list_data_sources(\n",
    "                    AwsAccountId=v_src_account_id,\n",
    "                    MaxResults=100,\n",
    "                    NextToken=datasources['NextToken']\n",
    "                    )\n",
    "                y = [(member['Arn'],member['DataSourceId'],member['Name'] if ('Name' in member.keys()) else \"\",member['CreatedTime'],member['LastUpdatedTime']) for member in datasources[\"DataSources\"] ]\n",
    "                v_datasources.extend(y)\n",
    "                #i+=len(templates.get('TemplateSummaryList'))\n",
    "        #print(\"Number of Analyses: \" + str(i))\n",
    "        for datasource in v_datasources:    \n",
    "            \"\"\"\n",
    "            if datasource[2]=='Athena' :\n",
    "                sourceDataSourceARN=datasource[0]\n",
    "                sourceDataSourceId=datasource[1]\n",
    "            \"\"\"\n",
    "            if datasource[0]==dsn:\n",
    "                sourceDataSourceARN=datasource[0]\n",
    "                sourceDataSourceId=datasource[1]\n",
    "                sourceDataSourceName=datasource[2]\n",
    "                distinct_source_dsn_set.add(sourceDataSourceId)"
   ]
  },
  {
   "attachments": {},
   "cell_type": "markdown",
   "metadata": {},
   "source": [
    "## 4- Data Source and Data set"
   ]
  },
  {
   "attachments": {},
   "cell_type": "markdown",
   "metadata": {},
   "source": [
    "### Update the Dataset Definition for each of the datasets. Create/Update the Datasets"
   ]
  },
  {
   "attachments": {},
   "cell_type": "markdown",
   "metadata": {},
   "source": [
    "Each dataset has physical table map, which has datasource arn attached to it. There can be multiple physical table maps and multiple data sources. We have a cross-reference json list of the mapping of all datasources for all the environments (accounts). At run time, we refer to this json file and extract the datasource arn's based on the environments and replace the data source arn in the physical table map section of the dataset definition. This is done inside of a loop \"for k in v_src_DatasetARn_Id\".\n",
    "The loop iterates through the dataset definition for each dataset and at the end of each iteration, creates the dataset in the target account. If the dataset already exists, it updates it.\n",
    "Each iteration also updates the permissions of the dataset, so it can be accessed via quicksight UI."
   ]
  },
  {
   "cell_type": "code",
   "execution_count": null,
   "metadata": {},
   "outputs": [],
   "source": [
    "get_dsn_mapping_dict=dict()\n",
    "\n",
    "with open('data.json') as json_file:\n",
    "    dsn_list=json.load(json_file)\n",
    "    \n",
    "for i in dsn_list['dsn']:\n",
    "    get_dsn_mapping_dict[i[v_src_env]]=i[v_target_env]\n",
    "\n",
    "n=0    \n",
    "for k in v_src_DatasetArn_Id:\n",
    "    \n",
    "    \n",
    "    update_flag='N'\n",
    "    ds=client.describe_data_set(\n",
    "            AwsAccountId=v_src_account_id,\n",
    "            DataSetId=v_src_DatasetArn_Id[k])\n",
    "\n",
    "    item_list=[]\n",
    "    for item in ds['DataSet']['PhysicalTableMap']:\n",
    "        item_list.append(item)\n",
    "\n",
    "    for i in item_list:\n",
    "        for key in ds['DataSet']['PhysicalTableMap'][i]:\n",
    "            temp_string=ds['DataSet']['PhysicalTableMap'][i][key]['DataSourceArn'].replace(v_src_account_id,v_tgt_account_id)\n",
    "            replacement_dsn=get_dsn_mapping_dict[temp_string[temp_string.find('/')+1:]]\n",
    "            if not replacement_dsn:\n",
    "                print(\"raise issue\")\n",
    "            else:\n",
    "                temp_string=temp_string.replace(temp_string[temp_string.find('/')+1:],replacement_dsn)\n",
    "                ds['DataSet']['PhysicalTableMap'][i][key]['DataSourceArn']=temp_string\n",
    "                \n",
    "                \n",
    "    datasets = tgt_client.list_data_sets(\n",
    "        AwsAccountId=v_tgt_account_id,\n",
    "        MaxResults=100\n",
    "    )  \n",
    "\n",
    "    v_datasets = []\n",
    "    y = [(member['Arn'],member['DataSetId'],member['Name'], member['CreatedTime'],member['LastUpdatedTime']) for member in datasets[\"DataSetSummaries\"] ]\n",
    "    v_datasets.extend(y)\n",
    "    while 'NextToken' in datasets:\n",
    "            datasets = tgt_client.list_data_sets(\n",
    "                AwsAccountId=v_tgt_account_id,\n",
    "                MaxResults=100,\n",
    "                NextToken=datasets['NextToken']\n",
    "                )\n",
    "            y = [(member['Arn'],member['DataSetId'],member['Name'] if ('Name' in member.keys()) else \"\", member['CreatedTime'],member['LastUpdatedTime']) for member in datasets[\"DataSetSummaries\"] ]\n",
    "            v_datasets.extend(y)\n",
    "    for dataset in v_datasets:    \n",
    "        if dataset[1]==ds['DataSet']['DataSetId']:\n",
    "            print('dataset already exists. updating the dataset instead of creating.')\n",
    "            ###run update here\n",
    "            update_flag='Y'\n",
    "            print(\"In Update\")\n",
    "            target_dataset = tgt_client.update_data_set(\n",
    "                AwsAccountId=v_tgt_account_id,\n",
    "                DataSetId=ds['DataSet']['DataSetId'],\n",
    "                Name=ds['DataSet']['Name'],\n",
    "                PhysicalTableMap=ds['DataSet']['PhysicalTableMap'],\n",
    "                LogicalTableMap=ds['DataSet']['LogicalTableMap'],\n",
    "                ImportMode=ds['DataSet']['ImportMode'])\n",
    "            break\n",
    "\n",
    "    #print(update_flag)\n",
    "    \n",
    "    if update_flag=='N':\n",
    "        print('dataset does not exists. creating the dataset')\n",
    "        target_dataset = tgt_client.create_data_set(AwsAccountId=v_tgt_account_id, \n",
    "                                                    DataSetId=ds['DataSet']['DataSetId'],\n",
    "                                                    Name=ds['DataSet']['Name'],\n",
    "                                                    PhysicalTableMap=ds['DataSet']['PhysicalTableMap'],\n",
    "                                                    LogicalTableMap=ds['DataSet']['LogicalTableMap'],\n",
    "                                                    ImportMode=ds['DataSet']['ImportMode'])                           \n",
    "        \n",
    "\n",
    "    tgt_client.update_data_set_permissions(\n",
    "        AwsAccountId=v_tgt_account_id,\n",
    "        DataSetId=ds['DataSet']['DataSetId'],\n",
    "        GrantPermissions=[\n",
    "            {\n",
    "                'Principal': 'arn:aws:quicksight:ap-southeast-2:'+v_tgt_account_id+':user/default/'+v_role+'/'+v_user,\n",
    "                'Actions': [\n",
    "                    'quicksight:UpdateDataSetPermissions','quicksight:DescribeDataSetPermissions','quicksight:PassDataSet','quicksight:CreateIngestion','quicksight:DescribeIngestion','quicksight:CancelIngestion','quicksight:ListIngestions','quicksight:UpdateDataSet','quicksight:DescribeDataSet','quicksight:DeleteDataSet'\n",
    "                ]\n",
    "            },\n",
    "        ]\n",
    "    ) "
   ]
  },
  {
   "attachments": {},
   "cell_type": "markdown",
   "metadata": {},
   "source": [
    "## 5- Create or Update Analysis"
   ]
  },
  {
   "attachments": {},
   "cell_type": "markdown",
   "metadata": {},
   "source": [
    "The analysis requires Source Entity, which is obtained by modifying the definition of the dataset ARN in the src_dataset_ARN_list and storing it in the tgt_dataset_ARN_list.\n",
    "Check if the analysis already exists in the target account. If it does, update it, else create it. Use the template ARN for the source template, for which we modified teh permissions in the Template step.\n",
    "Update the permissions on the analysis, so it can be accessed from Quicksight."
   ]
  },
  {
   "cell_type": "code",
   "execution_count": null,
   "metadata": {},
   "outputs": [],
   "source": [
    "temp_tgt_dict=dict()\n",
    "tgt_dataset_ARN_List=[]\n",
    "for i in src_dataset_ARN_list:\n",
    "    temp_tgt_dict['DataSetPlaceholder']=i['DataSetPlaceholder']\n",
    "    temp_tgt_dict['DataSetArn']=i['DataSetArn'].replace(v_src_account_id,v_tgt_account_id)\n",
    "    tgt_dataset_ARN_List.append(temp_tgt_dict)\n",
    "\n",
    "\n",
    "\n",
    "if tgt_analysisId:\n",
    "    print('Analysis exists in Target. Executing the steps for Update.')\n",
    "    ###call update analysis function here. we can use the template for source to update the analysis with tgt_analysisId\n",
    "    tgt_client.update_analysis(\n",
    "                AwsAccountId=v_tgt_account_id,\n",
    "                AnalysisId=src_analysisId,\n",
    "                Name=tgt_analysis_name,\n",
    "                SourceEntity={\n",
    "                    'SourceTemplate': {\n",
    "                        'DataSetReferences': tgt_dataset_ARN_List,\n",
    "                        'Arn': template_desc['Template']['Arn']\n",
    "                    }\n",
    "                }\n",
    "            )        \n",
    "else:\n",
    "    print('Analysis does not exist in Target. Executing the steps for Analysis creation.')\n",
    "    ###call create analysis function here. we can potentially use the src_analysisId to store as the analysis ID during report creation\n",
    "    tgt_client.create_analysis(\n",
    "        AwsAccountId=v_tgt_account_id,\n",
    "        AnalysisId=src_analysisId,\n",
    "        Name=src_analysis_name,\n",
    "        SourceEntity={\n",
    "            'SourceTemplate': {\n",
    "                'DataSetReferences': tgt_dataset_ARN_List,\n",
    "                'Arn': template_desc['Template']['Arn']\n",
    "            }\n",
    "        }\n",
    "    )\n",
    "\n",
    "tgt_analysis_desc=tgt_client.describe_analysis(\n",
    "    AwsAccountId=v_tgt_account_id,\n",
    "    AnalysisId=src_analysisId\n",
    ")\n",
    "\n",
    "if tgt_analysis_desc['Analysis']['Status'].find('_SUCCESSFUL')==-1:\n",
    "    time.sleep(120)\n",
    "    tgt_analysis_desc=tgt_client.describe_analysis(\n",
    "        AwsAccountId=v_tgt_account_id,\n",
    "        AnalysisId=src_analysisId\n",
    "    )\n",
    "    if tgt_analysis_desc['Analysis']['Status'].find('_SUCCESSFUL')==-1:\n",
    "        print(\"Analysis could not be successfully created/updated. Please check the configurations and re-execute the steps\")\n",
    "    else:\n",
    "        print(\"Analysis was succefully created/updated. Proceeding with the next step of updating permissions.\")\n",
    "        tgt_client.update_analysis_permissions(\n",
    "            AwsAccountId=v_tgt_account_id,\n",
    "            AnalysisId=src_analysisId,\n",
    "            GrantPermissions=[\n",
    "                {\n",
    "                    'Principal': 'arn:aws:quicksight:ap-southeast-2:'+v_tgt_account_id+':user/default/'+v_role+'/'+v_user,\n",
    "                    'Actions': ['quicksight:RestoreAnalysis', 'quicksight:UpdateAnalysisPermissions', 'quicksight:DeleteAnalysis', 'quicksight:QueryAnalysis', 'quicksight:DescribeAnalysisPermissions', 'quicksight:DescribeAnalysis', 'quicksight:UpdateAnalysis']\n",
    "                },\n",
    "            ]\n",
    "        )\n",
    "else:\n",
    "        print(\"Analysis was succefully created/updated. Proceeding with the next step of updating permissions.\")\n",
    "        tgt_client.update_analysis_permissions(\n",
    "            AwsAccountId=v_tgt_account_id,\n",
    "            AnalysisId=src_analysisId,\n",
    "            GrantPermissions=[\n",
    "                {\n",
    "                    'Principal': 'arn:aws:quicksight:ap-southeast-2:'+v_tgt_account_id+':user/default/'+v_role+'/'+v_user,\n",
    "                    'Actions': ['quicksight:RestoreAnalysis', 'quicksight:UpdateAnalysisPermissions', 'quicksight:DeleteAnalysis', 'quicksight:QueryAnalysis', 'quicksight:DescribeAnalysisPermissions', 'quicksight:DescribeAnalysis', 'quicksight:UpdateAnalysis']\n",
    "                },\n",
    "            ]\n",
    "        ) "
   ]
  },
  {
   "cell_type": "code",
   "execution_count": null,
   "metadata": {},
   "outputs": [],
   "source": []
  }
 ],
 "metadata": {
  "kernelspec": {
   "display_name": "boto3",
   "language": "python",
   "name": "python3"
  },
  "language_info": {
   "codemirror_mode": {
    "name": "ipython",
    "version": 3
   },
   "file_extension": ".py",
   "mimetype": "text/x-python",
   "name": "python",
   "nbconvert_exporter": "python",
   "pygments_lexer": "ipython3",
   "version": "3.9.4"
  },
  "orig_nbformat": 4,
  "vscode": {
   "interpreter": {
    "hash": "85395fb18335c0f6752fe5f8a52e142e1d1491bd80e2e4feb6801eb0a6e95f2c"
   }
  }
 },
 "nbformat": 4,
 "nbformat_minor": 2
}
