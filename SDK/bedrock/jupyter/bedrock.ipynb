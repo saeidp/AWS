{
 "cells": [
  {
   "cell_type": "code",
   "execution_count": null,
   "id": "fdc185ec-6d87-403d-82ec-457b9bcd54aa",
   "metadata": {},
   "outputs": [],
   "source": [
    "import boto3\n",
    "\n",
    "# Print the current session's credentials and region\n",
    "session = boto3.Session()\n",
    "print(\"Current credentials:\")\n",
    "print(session.get_credentials().get_frozen_credentials())\n",
    "print(\"Current region:\", session.region_name)"
   ]
  },
  {
   "cell_type": "code",
   "execution_count": null,
   "id": "2e1ff890-d839-40ec-bb02-a845e71fb952",
   "metadata": {},
   "outputs": [],
   "source": [
    "import boto3\n",
    "\n",
    "# Create a session using a specific profile\n",
    "session = boto3.Session(profile_name='default')\n",
    "\n",
    "# Create an S3 client with that session\n",
    "s3_client = session.client('s3')\n",
    "\n",
    "# List S3 buckets\n",
    "response = s3_client.list_buckets()\n",
    "\n",
    "# Output the bucket names\n",
    "print(\"S3 Buckets:\")\n",
    "for bucket in response['Buckets']:\n",
    "    print(f'- {bucket[\"Name\"]}')"
   ]
  },
  {
   "cell_type": "code",
   "execution_count": null,
   "id": "dc534151-2cc9-4464-9bd7-7ff93679dea9",
   "metadata": {},
   "outputs": [],
   "source": []
  }
 ],
 "metadata": {
  "kernelspec": {
   "display_name": "Python (analytics)",
   "language": "python",
   "name": "analytics"
  },
  "language_info": {
   "codemirror_mode": {
    "name": "ipython",
    "version": 3
   },
   "file_extension": ".py",
   "mimetype": "text/x-python",
   "name": "python",
   "nbconvert_exporter": "python",
   "pygments_lexer": "ipython3",
   "version": "3.12.5"
  }
 },
 "nbformat": 4,
 "nbformat_minor": 5
}
