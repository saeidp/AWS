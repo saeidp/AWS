{
	"cells": [
		{
			"cell_type": "markdown",
			"metadata": {
				"editable": true,
				"trusted": true
			},
			"source": [
				"# AWS Glue Studio Notebook\n",
				"##### You are now running a AWS Glue Studio notebook; To start using your notebook you need to start an AWS Glue Interactive Session.\n"
			]
		},
		{
			"cell_type": "markdown",
			"metadata": {
				"editable": true,
				"trusted": true
			},
			"source": [
				"#### Optional: Run this cell to see available notebook commands (\"magics\").\n"
			]
		},
		{
			"cell_type": "code",
			"execution_count": null,
			"metadata": {
				"editable": true,
				"trusted": true,
				"vscode": {
					"languageId": "python_glue_session"
				}
			},
			"outputs": [],
			"source": [
				"%help"
			]
		},
		{
			"cell_type": "code",
			"execution_count": 2,
			"metadata": {
				"tags": [],
				"trusted": true,
				"vscode": {
					"languageId": "python_glue_session"
				}
			},
			"outputs": [
				{
					"name": "stdout",
					"output_type": "stream",
					"text": [
						"Welcome to the Glue Interactive Sessions Kernel\n",
						"For more information on available magic commands, please type %help in any new cell.\n",
						"\n",
						"Please view our Getting Started page to access the most up-to-date information on the Interactive Sessions kernel: https://docs.aws.amazon.com/glue/latest/dg/interactive-sessions.html\n",
						"Installed kernel version: 0.38.1 \n",
						"The following configurations have been updated: {'write-shuffle-spills-to-s3': 'true'}\n"
					]
				}
			],
			"source": [
				"%%configure\n",
				"{\n",
				"  \"write-shuffle-files-to-s3\": \"true\",\n",
				"  \"write-shuffle-spills-to-s3\": \"true\"\n",
				"}"
			]
		},
		{
			"cell_type": "markdown",
			"metadata": {
				"editable": true,
				"trusted": true
			},
			"source": [
				"####  Run this cell to set up and start your interactive session.\n"
			]
		},
		{
			"cell_type": "code",
			"execution_count": null,
			"metadata": {
				"vscode": {
					"languageId": "plaintext"
				}
			},
			"outputs": [],
			"source": [
				"%idle_timeout 2880\n",
				"%glue_version 4.0\n",
				"%worker_type G.2X\n",
				"%number_of_workers 2\n",
				"%connections bi_oracle_rbi1tst\n",
				"import sys\n",
				"from awsglue.transforms import *\n",
				"from awsglue.utils import getResolvedOptions\n",
				"from pyspark.context import SparkContext\n",
				"from awsglue.context import GlueContext\n",
				"from awsglue.job import Job\n",
				"  \n",
				"sc = SparkContext.getOrCreate()\n",
				"glueContext = GlueContext(sc)\n",
				"spark = glueContext.spark_session\n",
				"job = Job(glueContext)"
			]
		},
		{
			"cell_type": "markdown",
			"metadata": {
				"editable": true,
				"tags": [],
				"trusted": true
			},
			"source": [
				"#### Example: Create a DynamicFrame from a table in the AWS Glue Data Catalog and display its schema\n"
			]
		},
		{
			"cell_type": "code",
			"execution_count": null,
			"metadata": {
				"editable": true,
				"trusted": true,
				"vscode": {
					"languageId": "python_glue_session"
				}
			},
			"outputs": [],
			"source": [
				"dyf = glueContext.create_dynamic_frame.from_catalog(database='bi_oracle_rbi1tst', table_name='rbi1tst_warehouse_master_academic_general_lkp')\n",
				"dyf.printSchema()"
			]
		},
		{
			"cell_type": "markdown",
			"metadata": {
				"editable": true,
				"trusted": true
			},
			"source": [
				"#### Example: Convert the DynamicFrame to a Spark DataFrame and display a sample of the data\n"
			]
		},
		{
			"cell_type": "code",
			"execution_count": null,
			"metadata": {
				"editable": true,
				"trusted": true,
				"vscode": {
					"languageId": "python_glue_session"
				}
			},
			"outputs": [],
			"source": [
				"df = dyf.toDF()\n",
				"df.show()"
			]
		},
		{
			"cell_type": "code",
			"execution_count": 6,
			"metadata": {
				"tags": [],
				"trusted": true,
				"vscode": {
					"languageId": "python_glue_session"
				}
			},
			"outputs": [
				{
					"name": "stdout",
					"output_type": "stream",
					"text": [
						"root\n",
						"|-- YEAR: decimal\n",
						"|-- STAFF_ID: string\n",
						"|-- HEW_CATEGORY_NARROW: string\n",
						"|-- POSITION_CATEGORY_DESCRIPTION: string\n",
						"|-- CURR_LEVEL_3_CODE: string\n",
						"|-- CURR_FACULTY_NAME: string\n",
						"|-- CURR_LEVEL_4_CODE: string\n",
						"|-- CURR_SCHOOL_AREA_NAME: string\n",
						"|-- STUDY_PERIOD_NAME: string\n",
						"|-- UNIT_SPK_NO: decimal\n",
						"|-- USER_DEFINED_CODE: string\n",
						"|-- UNIT_ACTIVE_STATUS: string\n",
						"|-- UNIT_FULL_TITLE: string\n",
						"|-- UNIT_SHORT_TITLE: string\n",
						"|-- UNIT_BROAD_CATEGORY: string\n",
						"|-- UNIT_NARROW_CATEGORY: string\n",
						"|-- UNIT_DETAILED_CATEGORY: string\n",
						"|-- UNIT_RESEARCH_OR_COURSEWORK: string\n",
						"|-- PRIMARY_BROAD_FOE_DESC: string\n",
						"|-- SECONDARY_BROAD_FOE_DESC: string\n",
						"|-- SURVEY_TITLE: string\n",
						"|-- SCALE_NAME: string\n",
						"|-- EVENT_NAME: string\n",
						"|-- MEASURE: string\n",
						"|-- RESPONSES: decimal\n",
						"|-- AGREE: decimal\n",
						"|-- DIAGREE: decimal\n",
						"|-- UNABLETOJUDGE: decimal\n",
						"|-- AGREE_PCT: decimal\n",
						"|-- DISAGREE_PCT: decimal\n",
						"|-- UNABLETOJUDGE_PCT: decimal\n"
					]
				}
			],
			"source": [
				"dyf = glueContext.create_dynamic_frame.from_catalog(database='bi_oracle_rbi1tst', table_name='rbi1tst_warehouse_master_ap_evaluate')\n",
				"dyf.printSchema()"
			]
		},
		{
			"cell_type": "code",
			"execution_count": null,
			"metadata": {
				"tags": [],
				"trusted": true,
				"vscode": {
					"languageId": "python_glue_session"
				}
			},
			"outputs": [],
			"source": [
				"df = dyf.toDF()\n",
				"df.show()"
			]
		},
		{
			"cell_type": "code",
			"execution_count": null,
			"metadata": {
				"tags": [],
				"trusted": true,
				"vscode": {
					"languageId": "python_glue_session"
				}
			},
			"outputs": [],
			"source": [
				"dyf = dyf.coalesce(1)\n",
				"glueContext.write_dynamic_frame.from_options(\n",
				"    frame=dyf,\n",
				"    connection_type=\"s3\",\n",
				"    format= \"glueparquet\",\n",
				"    connection_options={\n",
				"        \"path\": \"s3://bi-oracle-123456/evaluate\",\n",
				"        \"partitionKeys\":[],\n",
				"        },\n",
				"    transformation_ctx=\"s3output\")\n",
				"job.commit()"
			]
		},
		{
			"cell_type": "markdown",
			"metadata": {
				"editable": true,
				"trusted": true
			},
			"source": [
				"#### Example: Visualize data with matplotlib\n"
			]
		},
		{
			"cell_type": "markdown",
			"metadata": {
				"editable": true,
				"trusted": true
			},
			"source": [
				"#### Example: Write the data in the DynamicFrame to a location in Amazon S3 and a table for it in the AWS Glue Data Catalog\n"
			]
		},
		{
			"cell_type": "code",
			"execution_count": 2,
			"metadata": {
				"tags": [],
				"trusted": true,
				"vscode": {
					"languageId": "python_glue_session"
				}
			},
			"outputs": [
				{
					"name": "stdout",
					"output_type": "stream",
					"text": [
						"root\n",
						"|-- USER_ID: string\n",
						"|-- UNIT_ID: string\n",
						"|-- PUBLISHABLE: string\n",
						"|-- PUBLISHABLE_COURSE: string\n",
						"|-- PUBLISHABLE_MAJOR: string\n",
						"|-- STU_SUPPRESS_FG: string\n",
						"|-- REPRESENTATIVE: string\n",
						"|-- STU_RESPONSE_ID: string\n",
						"|-- SURVEY_RESPONSE_ID: string\n",
						"|-- ENROLMENT_ID: string\n",
						"|-- AGREEMENT_ID: string\n",
						"|-- DISAGREEMENT_ID: string\n",
						"|-- UJ_ID: string\n",
						"|-- AGREE_BROAD: decimal\n",
						"|-- AGREE_DETAIL: decimal\n",
						"|-- STRONGLY_AGREE: decimal\n",
						"|-- DISAGREE_BROAD: decimal\n",
						"|-- DISAGREE_DETAIL: decimal\n",
						"|-- STRONGLY_DISAGREE: decimal\n",
						"|-- UJ: decimal\n",
						"|-- QUESTIONS_CHECK_ANSWERED: decimal\n",
						"|-- NO_RESPONSE: decimal\n",
						"|-- SURVEY_ID: decimal\n",
						"|-- STUDENT_ID: string\n",
						"|-- QUESTION_ID: decimal\n",
						"|-- RESPONSE_ID: decimal\n",
						"|-- SSP_NO: decimal\n",
						"|-- STATUS_ID: decimal\n",
						"|-- UC_SUPPRESS_FG: string\n",
						"|-- POP_SUPPRESS_FG: string\n",
						"|-- CRS_POP_SUPPRESS_FG: string\n",
						"|-- CSR_SUPPRESS_FG: string\n",
						"|-- PUBLIC_SUPPRESS_FG: string\n",
						"|-- USR_SUPPRESS_FG: string\n",
						"|-- MJR_POP_SUPPRESS_FG: string\n",
						"|-- MJR_SUPPRESS_FG: string\n",
						"|-- QUALIFIED_MAJOR: string\n",
						"|-- UNIT_SUPPRESS_FG: string\n",
						"|-- COURSE_SUPPRESS_FG: string\n",
						"|-- ENROLMENTS: decimal\n",
						"|-- RESPONSES: decimal\n",
						"|-- AGE_AGE_RANGE: string\n",
						"|-- CAMPUS_CAMPUS_FULL_NAME: string\n",
						"|-- CRS_COURSE_SPK_NO: decimal\n",
						"|-- CRS_COURSE_FULL_TITLE: string\n",
						"|-- CRS_COURSE_AWARD_LEVEL: string\n",
						"|-- CRS_SPK_CD: string\n",
						"|-- CRS_USER_DEFINED_CODE: string\n",
						"|-- CRS_DEGREE_TYPE: string\n",
						"|-- COWN_CURR_FACULTY_NAME: string\n",
						"|-- COWN_CURR_SCHOOL_AREA_NAME: string\n",
						"|-- COW_CURR_DEPARTMENT_GROUP_NAME: string\n",
						"|-- COWN_CURR_ACADEMIC_ORG_UNIT_NM: string\n",
						"|-- COWN_SECURITY_EVAL: string\n",
						"|-- COWN_CURR_FACULTY_NAME_OLD: string\n",
						"|-- COWN_CURR_SCHOOL_AREA_NAME_OLD: string\n",
						"|-- COW_CURR_DEPT_GROUP_NAME_OLD: string\n",
						"|-- COWN_CURR_ORG_UNIT_NM_OLD: string\n",
						"|-- MJR_MAJOR_SPK_NO: decimal\n",
						"|-- MJR_MAJOR_FULL_TITLE: string\n",
						"|-- MJR_SPK_CD: string\n",
						"|-- MJR_USER_DEFINED_CODE: string\n",
						"|-- QUES_QUESTION_IDENTIFIER: string\n",
						"|-- QUES_EVENT_TYPE_CATEGORY_NAME: string\n",
						"|-- SCALE_SCALE_NAME: string\n",
						"|-- SCALE_SCALE_BROAD_DESCRIPTION: string\n",
						"|-- RESP_MC_RESPONSE_CODE: string\n",
						"|-- RESP_MC_RESPONSE_DETAIL: string\n",
						"|-- RESP_MC_RESPONSE_BROAD: string\n",
						"|-- STU_FT_PT_FULL_OR_PART_TIME: string\n",
						"|-- STU_FT_PT_ENROLMENT_PERIOD: string\n",
						"|-- SPD_STUDY_PERIOD_NAME: string\n",
						"|-- SUR_CENSUS_CALENDAR_YEAR: decimal\n",
						"|-- SUR_DETAIL_SURVEY_TITLE_CD: string\n",
						"|-- SUR_DETAIL_SURVEY_TITLE: string\n",
						"|-- SUR_DETAIL_SURVEY_PUBLISH_FG: string\n",
						"|-- SUR_DETAIL_SURVEY_PUBLISH_USER: string\n",
						"|-- SUR_DETAIL_SURVEY_PUBLISH_DT: timestamp\n",
						"|-- SUR_DETAIL_SURVEY_TYPE_NAME: string\n",
						"|-- SUR_DETAIL_SURVEY_TYPE_DESC: string\n",
						"|-- SUR_PERIOD_EVENT_DESC: string\n",
						"|-- U_SSP_STTS_CD: string\n",
						"|-- U_UNIT_ENROL_BROAD_ATTEND_MODE: string\n",
						"|-- U_UNIT_ENROL_ATTENDANCE_MODE: string\n",
						"|-- UNIT_UNIT_FULL_TITLE: string\n",
						"|-- UNIT_UNIT_ACADEMIC_YEAR_LEVEL: string\n",
						"|-- UNIT_UNIT_NARROW_CATEGORY: string\n",
						"|-- UNIT_SPK_CD: string\n",
						"|-- UNIT_USER_DEFINED_CODE: string\n",
						"|-- UOWN_CURR_FACULTY_NAME: string\n",
						"|-- UOWN_CURR_SCHOOL_AREA_NAME: string\n",
						"|-- UOWN_CURR_DEPARTMENT_GROUP_NM: string\n",
						"|-- UOWN_CURR_ACADEMIC_ORG_UNIT_NM: string\n",
						"|-- UOWN_SECURITY_EVAL: string\n",
						"|-- UOWN_CURR_FACULTY_NAME_OLD: string\n",
						"|-- UOWN_CURR_SCHOOL_AREA_NAME_OLD: string\n",
						"|-- UOWN_CURR_DEPT_GROUP_NM_OLD: string\n",
						"|-- UOWN_CURR_ORG_UNIT_NM_OLD: string\n",
						"|-- U_SIZE_UNIT_SIZE_NARROW: string\n",
						"|-- U_SIZE_UNIT_SIZE_BROAD: string\n",
						"|-- USER_USER_ID: string\n",
						"|-- USER_EVL_CITIZENSHIP_CD: string\n",
						"|-- USER_EVL_CITIZENSHIP_DESC: string\n",
						"|-- USER_CITIZENSHIP_GROUP: string\n",
						"|-- USER_GENDER: string\n",
						"|-- USER_INTERNATIONAL_CATEGORY: string\n",
						"|-- REP_UNIT_SIZE_BROAD: string\n",
						"|-- EVENT_CALENDAR_YEAR: decimal\n",
						"|-- REL_CALENDAR_YEAR: decimal\n",
						"|-- REL_CALENDAR_DATE: timestamp\n",
						"|-- UC_STAFF_ID: string\n",
						"|-- UC_CURR_STAFF_NAME_FIRST_LAST: string\n",
						"|-- UC_CURR_STAFF_NAME_LAST_FIRST: string\n",
						"|-- CURR_COURSE_ACTIVE_STATUS: string\n",
						"|-- CURR_MAJOR_ACTIVE_STATUS: string\n",
						"|-- CURR_UNIT_ACTIVE_STATUS: string\n",
						"|-- CURR_COURSE_FULL_TITLE: string\n",
						"|-- CURR_MAJOR_FULL_TITLE: string\n",
						"|-- CURR_UNIT_FULL_TITLE: string\n",
						"|-- CURR_COURSE_USER_DEFINED_CODE: string\n",
						"|-- CURR_MAJOR_USER_DEFINED_CODE: string\n",
						"|-- CURR_UNIT_USER_DEFINED_CODE: string\n"
					]
				}
			],
			"source": [
				"dyf = glueContext.create_dynamic_frame.from_catalog(database='bi_oracle_rbi1tst', table_name='rbi1tst_warehouse_master_evl_fact_flat')\n",
				"dyf.printSchema()"
			]
		},
		{
			"cell_type": "code",
			"execution_count": 3,
			"metadata": {
				"tags": [],
				"trusted": true,
				"vscode": {
					"languageId": "python_glue_session"
				}
			},
			"outputs": [
				{
					"name": "stdout",
					"output_type": "stream",
					"text": [
						"+--------------------+--------------------+--------------------+--------------------+--------------------+---------------+--------------------+--------------------+--------------------+--------------------+--------------------+--------------------+-----+------------+------------+--------------+--------------+---------------+-----------------+-----+------------------------+------------+-----------------+----------+-------------+-------------------+--------+------------+--------------+---------------+-------------------+---------------+------------------+---------------+-------------------+---------------+--------------------+----------------+------------------+---------------+--------------+----------------+-----------------------+-----------------+---------------------+----------------------+----------+---------------------+--------------------+----------------------+--------------------------+------------------------------+------------------------------+------------------+--------------------------+------------------------------+----------------------------+-------------------------+----------------+--------------------+----------+---------------------+------------------------+-----------------------------+-----------------+-----------------------------+---------------------+-----------------------+----------------------+---------------------------+--------------------------+---------------------+------------------------+--------------------------+-----------------------+----------------------------+------------------------------+----------------------------+---------------------------+---------------------------+---------------------+-------------+------------------------------+----------------------------+--------------------+-----------------------------+-------------------------+-----------+----------------------+----------------------+--------------------------+-----------------------------+------------------------------+------------------+--------------------------+------------------------------+---------------------------+-------------------------+-----------------------+----------------------+------------+-----------------------+-------------------------+----------------------+-----------+---------------------------+-------------------+-------------------+-----------------+-------------------+-----------+-----------------------------+-----------------------------+-------------------------+------------------------+-----------------------+----------------------+---------------------+--------------------+-----------------------------+----------------------------+---------------------------+\n",
						"|             USER_ID|             UNIT_ID|         PUBLISHABLE|  PUBLISHABLE_COURSE|   PUBLISHABLE_MAJOR|STU_SUPPRESS_FG|      REPRESENTATIVE|     STU_RESPONSE_ID|  SURVEY_RESPONSE_ID|        ENROLMENT_ID|        AGREEMENT_ID|     DISAGREEMENT_ID|UJ_ID| AGREE_BROAD|AGREE_DETAIL|STRONGLY_AGREE|DISAGREE_BROAD|DISAGREE_DETAIL|STRONGLY_DISAGREE|   UJ|QUESTIONS_CHECK_ANSWERED| NO_RESPONSE|        SURVEY_ID|STUDENT_ID|  QUESTION_ID|        RESPONSE_ID|  SSP_NO|   STATUS_ID|UC_SUPPRESS_FG|POP_SUPPRESS_FG|CRS_POP_SUPPRESS_FG|CSR_SUPPRESS_FG|PUBLIC_SUPPRESS_FG|USR_SUPPRESS_FG|MJR_POP_SUPPRESS_FG|MJR_SUPPRESS_FG|     QUALIFIED_MAJOR|UNIT_SUPPRESS_FG|COURSE_SUPPRESS_FG|     ENROLMENTS|     RESPONSES|   AGE_AGE_RANGE|CAMPUS_CAMPUS_FULL_NAME|CRS_COURSE_SPK_NO|CRS_COURSE_FULL_TITLE|CRS_COURSE_AWARD_LEVEL|CRS_SPK_CD|CRS_USER_DEFINED_CODE|     CRS_DEGREE_TYPE|COWN_CURR_FACULTY_NAME|COWN_CURR_SCHOOL_AREA_NAME|COW_CURR_DEPARTMENT_GROUP_NAME|COWN_CURR_ACADEMIC_ORG_UNIT_NM|COWN_SECURITY_EVAL|COWN_CURR_FACULTY_NAME_OLD|COWN_CURR_SCHOOL_AREA_NAME_OLD|COW_CURR_DEPT_GROUP_NAME_OLD|COWN_CURR_ORG_UNIT_NM_OLD|MJR_MAJOR_SPK_NO|MJR_MAJOR_FULL_TITLE|MJR_SPK_CD|MJR_USER_DEFINED_CODE|QUES_QUESTION_IDENTIFIER|QUES_EVENT_TYPE_CATEGORY_NAME| SCALE_SCALE_NAME|SCALE_SCALE_BROAD_DESCRIPTION|RESP_MC_RESPONSE_CODE|RESP_MC_RESPONSE_DETAIL|RESP_MC_RESPONSE_BROAD|STU_FT_PT_FULL_OR_PART_TIME|STU_FT_PT_ENROLMENT_PERIOD|SPD_STUDY_PERIOD_NAME|SUR_CENSUS_CALENDAR_YEAR|SUR_DETAIL_SURVEY_TITLE_CD|SUR_DETAIL_SURVEY_TITLE|SUR_DETAIL_SURVEY_PUBLISH_FG|SUR_DETAIL_SURVEY_PUBLISH_USER|SUR_DETAIL_SURVEY_PUBLISH_DT|SUR_DETAIL_SURVEY_TYPE_NAME|SUR_DETAIL_SURVEY_TYPE_DESC|SUR_PERIOD_EVENT_DESC|U_SSP_STTS_CD|U_UNIT_ENROL_BROAD_ATTEND_MODE|U_UNIT_ENROL_ATTENDANCE_MODE|UNIT_UNIT_FULL_TITLE|UNIT_UNIT_ACADEMIC_YEAR_LEVEL|UNIT_UNIT_NARROW_CATEGORY|UNIT_SPK_CD|UNIT_USER_DEFINED_CODE|UOWN_CURR_FACULTY_NAME|UOWN_CURR_SCHOOL_AREA_NAME|UOWN_CURR_DEPARTMENT_GROUP_NM|UOWN_CURR_ACADEMIC_ORG_UNIT_NM|UOWN_SECURITY_EVAL|UOWN_CURR_FACULTY_NAME_OLD|UOWN_CURR_SCHOOL_AREA_NAME_OLD|UOWN_CURR_DEPT_GROUP_NM_OLD|UOWN_CURR_ORG_UNIT_NM_OLD|U_SIZE_UNIT_SIZE_NARROW|U_SIZE_UNIT_SIZE_BROAD|USER_USER_ID|USER_EVL_CITIZENSHIP_CD|USER_EVL_CITIZENSHIP_DESC|USER_CITIZENSHIP_GROUP|USER_GENDER|USER_INTERNATIONAL_CATEGORY|REP_UNIT_SIZE_BROAD|EVENT_CALENDAR_YEAR|REL_CALENDAR_YEAR|  REL_CALENDAR_DATE|UC_STAFF_ID|UC_CURR_STAFF_NAME_FIRST_LAST|UC_CURR_STAFF_NAME_LAST_FIRST|CURR_COURSE_ACTIVE_STATUS|CURR_MAJOR_ACTIVE_STATUS|CURR_UNIT_ACTIVE_STATUS|CURR_COURSE_FULL_TITLE|CURR_MAJOR_FULL_TITLE|CURR_UNIT_FULL_TITLE|CURR_COURSE_USER_DEFINED_CODE|CURR_MAJOR_USER_DEFINED_CODE|CURR_UNIT_USER_DEFINED_CODE|\n",
						"+--------------------+--------------------+--------------------+--------------------+--------------------+---------------+--------------------+--------------------+--------------------+--------------------+--------------------+--------------------+-----+------------+------------+--------------+--------------+---------------+-----------------+-----+------------------------+------------+-----------------+----------+-------------+-------------------+--------+------------+--------------+---------------+-------------------+---------------+------------------+---------------+-------------------+---------------+--------------------+----------------+------------------+---------------+--------------+----------------+-----------------------+-----------------+---------------------+----------------------+----------+---------------------+--------------------+----------------------+--------------------------+------------------------------+------------------------------+------------------+--------------------------+------------------------------+----------------------------+-------------------------+----------------+--------------------+----------+---------------------+------------------------+-----------------------------+-----------------+-----------------------------+---------------------+-----------------------+----------------------+---------------------------+--------------------------+---------------------+------------------------+--------------------------+-----------------------+----------------------------+------------------------------+----------------------------+---------------------------+---------------------------+---------------------+-------------+------------------------------+----------------------------+--------------------+-----------------------------+-------------------------+-----------+----------------------+----------------------+--------------------------+-----------------------------+------------------------------+------------------+--------------------------+------------------------------+---------------------------+-------------------------+-----------------------+----------------------+------------+-----------------------+-------------------------+----------------------+-----------+---------------------------+-------------------+-------------------+-----------------+-------------------+-----------+-----------------------------+-----------------------------+-------------------------+------------------------+-----------------------+----------------------+---------------------+--------------------+-----------------------------+----------------------------+---------------------------+\n",
						"|2021 Semester 2-2...|2021 Semester 2-0...|2021 Semester 2-3...|2021 Semester 2-3...|                null|              N|2021 Semester 2-0...|2021 Semester 2-2...|2021 Semester 2-2...|2021 Semester 2-2...|0000736607-002494...|                null| null|1.0000000000|1.0000000000|         0E-10|         0E-10|          0E-10|            0E-10|0E-10|            1.0000000000|       0E-10|736607.0000000000|  20802150|29.0000000000|22674706.0000000000|24941771|2.0000000000|             N|              N|                  N|              N|                 N|              N|                  N|              N|                null|               N|                 N| 651.0000000000|160.0000000000|     21-25 years|       Curtin Mauritius|           322486| Bachelor of Scien...|     Pass Award Levels|    B-SCIT|               B-SCIT|       Undergraduate|  Faculty of Scienc...|      School of Elec En...|          School of Elec En...|          School of Elec En...|              null|      Faculty of Scienc...|          School of Elec En...|        School of Elec En...|     School of Elec En...|               0|             Unknown|    000000|               000000|                       3|                  Unit Survey|        Resources|         What helps achiev...|                    A|                  Agree|                 Agree|                  Full-Time|          Second Half Only|           Semester 2|                    2021|                    320677|   Fundamentals of P...|                           Y|                          null|                        null|          <em>e</em>VALUate|            2021 Semester 2|           Semester 2|         PASS|                      Internal|                    Internal|Fundamentals of P...|                     1st Year|            Undergraduate|   COMP1005|              COMP1005|  Faculty of Scienc...|      School of Elec En...|         School of Elec En...|          School of Elec En...|              null|      Faculty of Scienc...|          School of Elec En...|       School of Elec En...|     School of Elec En...|    501 - 1000 Students|     > 100 and <= 1000|    20802150|                      5|     Overseas Student ...|  Citizenship - Int...|     Female|              International|   Greater than 100|               2021|             2021|2021-12-08 00:00:00|    162668J|             Valerie Maxville|            Maxville, Valerie|                   Active|          Not Applicable|                 Active|  Bachelor of Scien...|       Not Applicable|Fundamentals of P...|                       B-SCIT|                     Unknown|                   COMP1005|\n",
						"|2017 Semester 1-1...|2017 Semester 1-0...|2017 Semester 1-3...|2017 Semester 1-3...|2017 Semester 1-3...|              N|                null|                null|                null|2017 Semester 1-1...|                null|                null| null|       0E-10|       0E-10|         0E-10|         0E-10|          0E-10|            0E-10|0E-10|                   0E-10|1.0000000000|497669.0000000000|  17559670|33.0000000000|               null|18050690|3.0000000000|             N|              N|                  N|              N|                 N|              N|                  N|              N|2017 Semester 1-3...|               N|                 N| 152.0000000000| 32.0000000000|20 years or less|         Bentley Campus|           319895| Bachelor of Engin...|      Pass and Honours|   BH-ENGR|              BH-ENGR|       Undergraduate|  Faculty of Scienc...|      Faculty of Scienc...|          Faculty of Scienc...|          Faculty of Scienc...|              null|      Faculty of Scienc...|          Engineering Suppo...|        Engineering Opera...|     Engineering Opera...|          319073|Civil and Constru...|MJRU-CCENG|           MJRU-CCENG|                       7|                  Unit Survey|         Teaching|         What helps achiev...|                   NA|         Not Applicable|        Not Applicable|                  Full-Time|                 Full Year|           Semester 1|                    2017|                    316403|    Structural Design 2|                           Y|                          null|                        null|          <em>e</em>VALUate|            2017 Semester 1|           Semester 1|         PASS|                      Internal|                    Internal| Structural Design 2|                     3rd Year|            Undergraduate|   STEN3001|              STEN3001|  Faculty of Scienc...|      School of Civil a...|         School of Civil a...|          School of Civil a...|              null|      Faculty of Scienc...|          School of Civil a...|       Department of Civ...|     Department of Civ...|     101 - 200 Students|     > 100 and <= 1000|    17559670|                      4|     Temporary Entry P...|  Citizenship - Int...|       Male|              International|   Greater than 100|               2017|             2017|2017-07-12 00:00:00|    215170J|                  Kerri Bland|                 Bland, Kerri|                   Active|             Phasing Out|            Deactivated|  Bachelor of Engin...| Civil and Constru...| Structural Design 2|                      BH-ENGR|                  MJRU-CCENG|                   STEN3001|\n",
						"|2019 Semester 1-1...|2019 Semester 1-0...|2019 Semester 1-3...|2019 Semester 1-3...|2019 Semester 1-3...|              N|2019 Semester 1-0...|                null|                null|2019 Semester 1-1...|                null|                null| null|       0E-10|       0E-10|         0E-10|         0E-10|          0E-10|            0E-10|0E-10|                   0E-10|1.0000000000|605557.0000000000|  19745565|30.0000000000|               null|21778876|3.0000000000|             Y|              N|                  N|              N|                 N|              N|                  N|              N|2019 Semester 1-3...|               N|                 N|1357.0000000000|487.0000000000|20 years or less|         Bentley Campus|           319557| Bachelor of Commerce|     Pass Award Levels|    B-COMM|               B-COMM|       Undergraduate|  Faculty of Busine...|      Faculty of Busine...|          Faculty of Busine...|          Faculty of Busine...|              null|      Faculty of Busine...|          Faculty of Busine...|        Faculty of Busine...|     Faculty of Busine...|          319036|Advertising Major...|MJXU-ADVRT|           MJXU-ADVRT|                       4|                  Unit Survey|       Assessment|         What helps achiev...|                   NA|         Not Applicable|        Not Applicable|                  Full-Time|                 Full Year|           Semester 1|                    2019|                    315651|   Introductory Econ...|                           N|                       251210F|         2019-04-05 00:11:09|          <em>e</em>VALUate|            2019 Semester 1|           Semester 1|          ENR|                      Internal|                    Internal|Introductory Econ...|                     1st Year|            Undergraduate|   ECON1000|              ECON1000|  Faculty of Busine...|      School of Account...|         School of Account...|          School of Account...|              null|      Faculty of Busine...|          School of Economi...|       School of Economi...|     School of Economi...|   1001 - 1500 Students|     Greater than 1000|    19745565|                      1|               Australian|  Citizenship - Dom...|       Male|                   Domestic|   Greater than 100|               2019|             2019|2019-07-10 00:00:00|    251210F|                  Sherry Bawa|                 Bawa, Sherry|              Phasing Out|             Phasing Out|                 Active|  Bachelor of Commerce| Advertising Major...|Introductory Econ...|                       B-COMM|                  MJXU-ADVRT|                   ECON1000|\n",
						"|2020 Semester 2-1...|2020 Semester 2-0...|2020 Semester 2-3...|2020 Semester 2-3...|2020 Semester 2-3...|              N|                null|                null|                null|2020 Semester 2-1...|                null|                null| null|       0E-10|       0E-10|         0E-10|         0E-10|          0E-10|            0E-10|0E-10|                   0E-10|1.0000000000|679663.0000000000|  19004321|31.0000000000|               null|23882766|3.0000000000|             N|              N|                  N|              N|                 N|              N|                  N|              N|2020 Semester 2-3...|               N|                 N| 125.0000000000| 22.0000000000|     21-25 years|         Bentley Campus|           322286| Bachelor of Commerce|     Pass Award Levels|  B-COMRCE|             B-COMRCE|       Undergraduate|  Faculty of Busine...|      Faculty of Busine...|          Faculty of Busine...|          Faculty of Busine...|              null|      Faculty of Busine...|          Faculty of Busine...|        Faculty of Busine...|     Faculty of Busine...|          320222|Business Informat...|MJRU-BUISP|           MJRU-BUISP|                       5|                  Unit Survey|         Feedback|         What helps achiev...|                   NA|         Not Applicable|        Not Applicable|                  Full-Time|          Second Half Only|           Semester 2|                    2020|                    317980|   Introductory Syst...|                           Y|                          null|                        null|          <em>e</em>VALUate|            2020 Semester 2|           Semester 2|         FAIL|                      Internal|                    Internal|Introductory Syst...|                     2nd Year|            Undergraduate|   ISYS2002|              ISYS2002|  Faculty of Busine...|      School of Managem...|         School of Managem...|          School of Managem...|              null|      Faculty of Busine...|          School of Managem...|       School of Managem...|     School of Managem...|     101 - 200 Students|     > 100 and <= 1000|    19004321|                      4|     Temporary Entry P...|  Citizenship - Int...|       Male|              International|   Greater than 100|               2020|             2020|2020-12-16 00:00:00|    169643J|               Jules De Souza|              De Souza, Jules|                   Active|             Phasing Out|                 Active|  Bachelor of Commerce| Business Informat...|Introductory Syst...|                     B-COMRCE|                  MJRU-BUISP|                   ISYS2002|\n",
						"|2021 Semester 1-1...|2021 Semester 1-0...|2021 Semester 1-3...|2021 Semester 1-3...|2021 Semester 1-3...|              N|                null|                null|                null|2021 Semester 1-1...|                null|                null| null|       0E-10|       0E-10|         0E-10|         0E-10|          0E-10|            0E-10|0E-10|                   0E-10|       0E-10|709364.0000000000|  14077373|27.0000000000|22025208.0000000000|24648237|3.0000000000|             N|              N|                  N|              N|                 N|              N|                  N|              N|2021 Semester 1-3...|               N|                 N|  93.0000000000| 28.0000000000|     26-35 years|   Open Universities...|           319355| Bachelor of Comme...|     Pass Award Levels|   OU-COMM|              OU-COMM|       Undergraduate|      Student Services|        Student Management|                  OUA Programs|                  OUA Programs|              null|          Student Services|            Student Management|                OUA Programs|             OUA Programs|          321363|Finance Major (Ex...|OUXU-FINCE|           OUXU-FINCE|                       1|                  Unit Survey|         Outcomes|         What helps achiev...|                   SA|         Strongly Agree|                 Agree|                  Full-Time|                 Full Year|        OpenUnis SP 1|                    2021|                    322824|   ACC102 Financial ...|                           Y|                          null|                        null|          <em>e</em>VALUate|            2021 Semester 1|           Semester 1|         PASS|                      External|               Area External|ACC102 Financial ...|                     1st Year|            Undergraduate|   ACCT1005|              ACCT1005|      Student Services|        Student Management|                 OUA Programs|                  OUA Programs|              null|          Student Services|            Student Management|               OUA Programs|             OUA Programs|      51 - 100 Students|       > 10 and <= 100|    14077373|                      1|               Australian|  Citizenship - Dom...|     Female|                   Domestic|   => 10 and <= 100|               2021|             2021|2021-07-14 00:00:00|    253653H|            Wahseem Soobratty|           Soobratty, Wahseem|                   Active|                  Active|                 Active|  Bachelor of Comme...| Finance Major (Ex...|ACC102 Financial ...|                      OU-COMM|                  OUXU-FINCE|                   ACCT1005|\n",
						"|2020 Semester 1-1...|2020 Semester 1-0...|2020 Semester 1-3...|2020 Semester 1-3...|2020 Semester 1-3...|              N|2020 Semester 1-0...|                null|                null|2020 Semester 1-1...|                null|                null| null|       0E-10|       0E-10|         0E-10|         0E-10|          0E-10|            0E-10|0E-10|                   0E-10|1.0000000000|664847.0000000000|  18842148|29.0000000000|               null|20113123|3.0000000000|             N|              N|                  N|              N|                 N|              N|                  N|              N|2020 Semester 1-3...|               N|                 N| 393.0000000000| 94.0000000000|     21-25 years|         Bentley Campus|           319557| Bachelor of Commerce|     Pass Award Levels|    B-COMM|               B-COMM|       Undergraduate|  Faculty of Busine...|      Faculty of Busine...|          Faculty of Busine...|          Faculty of Busine...|              null|      Faculty of Busine...|          Faculty of Busine...|        Faculty of Busine...|     Faculty of Busine...|          319133|Finance Major (Ex...|MJXU-FINCE|           MJXU-FINCE|                       3|                  Unit Survey|        Resources|         What helps achiev...|                   NA|         Not Applicable|        Not Applicable|                  Part-Time|                 Full Year|           Semester 1|                    2020|                    318560|   International Fin...|                           Y|                          null|                        null|          <em>e</em>VALUate|            2020 Semester 1|           Semester 1|         PASS|                      External|                Fully Online|International Fin...|                     3rd Year|            Undergraduate|   FNCE3004|              FNCE3004|  Faculty of Busine...|      School of Account...|         School of Account...|          School of Account...|              null|      Faculty of Busine...|          School of Account...|       School of Account...|     School of Account...|     201 - 500 Students|     > 100 and <= 1000|    18842148|                      1|               Australian|  Citizenship - Dom...|       Male|                   Domestic|   Greater than 100|               2020|             2020|2020-07-15 00:00:00|    233952F|                   Tom Cronje|                  Cronje, Tom|              Phasing Out|             Phasing Out|                 Active|  Bachelor of Commerce| Finance Major (Ex...|International Fin...|                       B-COMM|                  MJXU-FINCE|                   FNCE3004|\n",
						"|2022 Semester 1-2...|2022 Semester 1-0...|2022 Semester 1-3...|2022 Semester 1-3...|                null|              N|                null|                null|                null|2022 Semester 1-2...|                null|                null| null|       0E-10|       0E-10|         0E-10|         0E-10|          0E-10|            0E-10|0E-10|                   0E-10|1.0000000000|754524.0000000000|  20288598|31.0000000000|               null|25537167|3.0000000000|             N|              N|                  N|              N|                 N|              N|                  N|              N|                null|               N|                 N| 137.0000000000| 38.0000000000|     21-25 years|         Bentley Campus|           320988| Bachelor of Pharm...|  Honours Award Levels|  BH-PHARM|             BH-PHARM|       Undergraduate|  Faculty of Health...|      Curtin Medical Sc...|          Curtin Medical Sc...|          Curtin Medical Sc...|              null|      Faculty of Health...|          Curtin Medical Sc...|        Curtin Medical Sc...|     Curtin Medical Sc...|               0|             Unknown|    000000|               000000|                       5|                  Unit Survey|         Feedback|         What helps achiev...|                   NA|         Not Applicable|        Not Applicable|                  Full-Time|                 Full Year|           Semester 1|                    2022|                    317175|   Foundations of Ph...|                           Y|                          null|                        null|          <em>e</em>VALUate|            2022 Semester 1|           Semester 1|          ENR|                      Internal|                    Internal|Foundations of Ph...|                     2nd Year|            Undergraduate|   PHAR2000|              PHAR2000|  Faculty of Health...|      Curtin Medical Sc...|         Curtin Medical Sc...|          Curtin Medical Sc...|              null|      Faculty of Health...|          Curtin Medical Sc...|       Curtin Medical Sc...|     Curtin Medical Sc...|     101 - 200 Students|     > 100 and <= 1000|    20288598|                      4|     Temporary Entry P...|  Citizenship - Int...|       Male|              International|   Greater than 100|               2022|             2022|2022-07-06 00:00:00|    211937A|             Jenny Dolzadelli|            Dolzadelli, Jenny|                   Active|          Not Applicable|                 Active|  Bachelor of Pharm...|       Not Applicable|Foundations of Ph...|                     BH-PHARM|                     Unknown|                   PHAR2000|\n",
						"|2019 Semester 2-1...|2019 Semester 2-0...|2019 Semester 2-3...|2019 Semester 2-3...|                null|              N|                null|                null|                null|2019 Semester 2-1...|                null|                null| null|       0E-10|       0E-10|         0E-10|         0E-10|          0E-10|            0E-10|0E-10|                   0E-10|1.0000000000|637972.0000000000|  19767679|34.0000000000|               null|21746208|3.0000000000|             N|              N|                  N|              N|                 N|              N|                  N|              N|                null|               N|                 N| 102.0000000000| 29.0000000000|20 years or less|         Bentley Campus|           319769| Bachelor of Appli...|      Pass and Honours|    B-CONM|               B-CONM|       Undergraduate|  Faculty of Humani...|      School of Design ...|          School of Design ...|          School of Design ...|              null|      Faculty of Humani...|          School of Design ...|        School of Design ...|     School of Design ...|               0|             Unknown|    000000|               000000|                       8|                  Unit Survey|       Motivation|         Student motivatio...|                   NA|         Not Applicable|        Not Applicable|                  Full-Time|                 Full Year|           Semester 2|                    2019|                    321726|   Construction Proj...|                           Y|                          null|                        null|          <em>e</em>VALUate|            2019 Semester 2|           Semester 2|          ENR|                      Internal|                    Internal|Construction Proj...|                     1st Year|            Undergraduate|   BLDG1012|              BLDG1012|  Faculty of Humani...|      School of Design ...|         School of Design ...|          School of Design ...|              null|      Faculty of Humani...|          School of Design ...|       School of Design ...|     School of Design ...|     101 - 200 Students|     > 100 and <= 1000|    19767679|                      1|               Australian|  Citizenship - Dom...|       Male|                   Domestic|   Greater than 100|               2019|             2019|2019-12-11 00:00:00|    234581A|                 Emil Jonescu|                Jonescu, Emil|                   Active|          Not Applicable|                 Active|  Bachelor of Appli...|       Not Applicable|Construction Proj...|                       B-CONM|                     Unknown|                   BLDG1012|\n",
						"|2017 Semester 2-1...|2017 Semester 2-0...|2017 Semester 2-3...|2017 Semester 2-3...|2017 Semester 2-3...|              N|2017 Semester 2-0...|2017 Semester 2-1...|2017 Semester 2-1...|2017 Semester 2-1...|                null|                null| null|       0E-10|       0E-10|         0E-10|         0E-10|          0E-10|            0E-10|0E-10|                   0E-10|1.0000000000|524181.0000000000|  19146265|37.0000000000|17500789.0000000000|19904675|2.0000000000|             N|              N|                  N|              N|                 N|              N|                  N|              N|2017 Semester 2-3...|               N|                 N|1162.0000000000|337.0000000000|20 years or less|         Bentley Campus|           319557| Bachelor of Commerce|     Pass Award Levels|    B-COMM|               B-COMM|       Undergraduate|  Faculty of Busine...|      Faculty of Busine...|          Faculty of Busine...|          Faculty of Busine...|              null|      Faculty of Busine...|          Faculty of Busine...|        Faculty of Busine...|     Faculty of Busine...|          319069|Event Management ...|MJXU-EVNTM|           MJXU-EVNTM|                      11|                  Unit Survey|     Satisfaction|                 Satisfaction|                   UK|              No Answer|             No Answer|                  Full-Time|                 Full Year|           Semester 2|                    2017|                    319260|           Business Law|                           Y|                          null|                        null|          <em>e</em>VALUate|            2017 Semester 2|           Semester 2|          ENR|                      Internal|                    Internal|        Business Law|                     1st Year|            Undergraduate|   BLAW1004|              BLAW1004|  Faculty of Busine...|         Curtin Law School|            Curtin Law School|             Curtin Law School|              null|      Faculty of Busine...|             Curtin Law School|          Curtin Law School|        Curtin Law School|   1001 - 1500 Students|     Greater than 1000|    19146265|                      1|               Australian|  Citizenship - Dom...|     Female|                   Domestic|   Greater than 100|               2017|             2017|2017-12-13 00:00:00|    180690D|           Stephen Monterosso|          Monterosso, Stephen|              Phasing Out|             Phasing Out|            Deactivated|  Bachelor of Commerce| Event Management ...|        Business Law|                       B-COMM|                  MJXU-EVNTM|                   BLAW1004|\n",
						"|2022 Semester 1-1...|2022 Semester 1-0...|2022 Semester 1-3...|2022 Semester 1-3...|                null|              N|2022 Semester 1-0...|                null|                null|2022 Semester 1-1...|                null|                null| null|       0E-10|       0E-10|         0E-10|         0E-10|          0E-10|            0E-10|0E-10|                   0E-10|1.0000000000|755851.0000000000|  19498209|35.0000000000|               null|25946368|3.0000000000|             N|              N|                  N|              N|                 N|              N|                  N|              N|                null|               N|                 N| 756.0000000000|105.0000000000|     21-25 years|   Open Universities...|           319435| Bachelor of Educa...|     Pass Award Levels|   OU-EDEC|              OU-EDEC|       Undergraduate|      Student Services|        Student Management|                  OUA Programs|                  OUA Programs|              null|          Student Services|            Student Management|                OUA Programs|             OUA Programs|               0|             Unknown|    000000|               000000|                       9|                  Unit Survey|         Best Use|         Student motivatio...|                   NA|         Not Applicable|        Not Applicable|                  Part-Time|           First Half Only|        OpenUnis SP 1|                    2022|                    321830|   EDC135 Child Deve...|                           Y|                          null|                        null|          <em>e</em>VALUate|            2022 Semester 1|           Semester 1|          ENR|                      External|               Area External|EDC135 Child Deve...|                     1st Year|            Undergraduate|   EDUC1022|              EDUC1022|      Student Services|        Student Management|                 OUA Programs|                  OUA Programs|              null|          Student Services|            Student Management|               OUA Programs|             OUA Programs|    501 - 1000 Students|     > 100 and <= 1000|    19498209|                      1|               Australian|  Citizenship - Dom...|     Female|                   Domestic|   Greater than 100|               2022|             2022|2022-07-06 00:00:00|    253305D|               Murray Brooker|              Brooker, Murray|                   Active|          Not Applicable|                 Active|  Bachelor of Educa...|       Not Applicable|EDC135 Child Deve...|                      OU-EDEC|                     Unknown|                   EDUC1022|\n",
						"|2021 Semester 1-2...|2021 Semester 1-0...|2021 Semester 1-3...|2021 Semester 1-3...|                null|              N|                null|2021 Semester 1-2...|2021 Semester 1-2...|2021 Semester 1-2...|0000709177-002282...|                null| null|1.0000000000|       0E-10|  1.0000000000|         0E-10|          0E-10|            0E-10|0E-10|            1.0000000000|       0E-10|709177.0000000000|  20042668|33.0000000000|22468586.0000000000|22822125|2.0000000000|             N|              N|                  N|              N|                 N|              N|                  N|              N|                null|               N|                 N|  36.0000000000| 15.0000000000|       46+ years|         Bentley Campus|           322227| Master of Speech ...|     Pass Award Levels| MG-SPPATH|            MG-SPPATH|Postgraduate Cour...|  Faculty of Health...|      Curtin School of ...|          Curtin School of ...|          Curtin School of ...|              null|      Faculty of Health...|          Curtin School of ...|        Curtin School of ...|     Curtin School of ...|               0|             Unknown|    000000|               000000|                       7|                  Unit Survey|         Teaching|         What helps achiev...|                   SA|         Strongly Agree|                 Agree|                  Full-Time|                 Full Year|           Semester 1|                    2021|                    322180|   Speech Pathology ...|                           Y|                          null|                        null|          <em>e</em>VALUate|            2021 Semester 1|           Semester 1|         PASS|                      Internal|                    Internal|Speech Pathology ...|                     6th Year|             Postgraduate|   SPPA6010|              SPPA6010|  Faculty of Health...|      Curtin School of ...|         Curtin School of ...|          Curtin School of ...|              null|      Faculty of Health...|          Curtin School of ...|       Curtin School of ...|     Curtin School of ...|       26 - 50 Students|       > 10 and <= 100|    20042668|                      3|     Permanent Residen...|  Citizenship - Dom...|     Female|                   Domestic|   => 10 and <= 100|               2021|             2021|2021-07-14 00:00:00|    237630K|                  Casey Magee|                 Magee, Casey|                   Active|          Not Applicable|                 Active|  Master of Speech ...|       Not Applicable|Speech Pathology ...|                    MG-SPPATH|                     Unknown|                   SPPA6010|\n",
						"|2018 Semester 1-1...|2018 Semester 1-0...|2018 Semester 1-3...|2018 Semester 1-3...|                null|              N|                null|2018 Semester 1-1...|2018 Semester 1-1...|2018 Semester 1-1...|                null|                null| null|       0E-10|       0E-10|         0E-10|         0E-10|          0E-10|            0E-10|0E-10|                   0E-10|       0E-10|550087.0000000000|  19408428|39.0000000000|18242435.0000000000|20433162|2.0000000000|             N|              N|                  N|              N|                 N|              N|                  N|              N|                null|               N|                 N|  59.0000000000| 17.0000000000|20 years or less|         Bentley Campus|           319267| Not for Degree - ...|           Not Entered| NA-STABRA|            NA-STABRA|               Other|  Faculty of Humani...|      Faculty of Humani...|          Faculty of Humani...|          Faculty of Humani...|              null|      Faculty of Humani...|          Faculty of Humani...|        Faculty of Humani...|     Faculty of Humani...|               0|             Unknown|    000000|               000000|                      13|                  Unit Survey|Comment Questions|            Comment Questions|                   NA|         Not Applicable|        Not Applicable|                  Full-Time|           First Half Only|           Semester 1|                    2018|                    317104|     Australian Studies|                           Y|                          null|                        null|          <em>e</em>VALUate|            2018 Semester 1|           Semester 1|          ENR|                      Internal|                    Internal|  Australian Studies|                     2nd Year|            Undergraduate|   HERI2002|              HERI2002|  Faculty of Humani...|      School of Media, ...|         School of Media, ...|          School of Media, ...|              null|      Faculty of Humani...|          School of Media, ...|       School of Media, ...|     School of Media, ...|      51 - 100 Students|       > 10 and <= 100|    19408428|                      4|     Temporary Entry P...|  Citizenship - Int...|     Female|              International|   => 10 and <= 100|               2018|             2018|2018-07-12 00:00:00|    250683K|                  Greg Watson|                 Watson, Greg|                   Active|          Not Applicable|                 Active|  Not for Degree - ...|       Not Applicable|  Australian Studies|                    NA-STABRA|                     Unknown|                   HERI2002|\n",
						"|2017 Semester 1-1...|2017 Semester 1-0...|2017 Semester 1-3...|2017 Semester 1-3...|                null|              N|                null|                null|                null|2017 Semester 1-1...|                null|                null| null|       0E-10|       0E-10|         0E-10|         0E-10|          0E-10|            0E-10|0E-10|                   0E-10|1.0000000000|497146.0000000000|  19135849|29.0000000000|               null|19778943|3.0000000000|             N|              N|                  N|              N|                 N|              N|                  N|              N|                null|               N|                 N|  44.0000000000| 10.0000000000|20 years or less|         Bentley Campus|           319409| Enabling Course f...|           Not Entered| EN-SCENHL|            EN-SCENHL|               Other|  Faculty of Scienc...|      Office of the PVC...|          Office of the PVC...|          Office of the PVC...|              null|      Faculty of Scienc...|          Office of the PVC...|        Office of the PVC...|     Office of the PVC...|               0|             Unknown|    000000|               000000|                       3|                  Unit Survey|        Resources|         What helps achiev...|                   NA|         Not Applicable|        Not Applicable|                  Full-Time|           First Half Only|           Semester 1|                    2017|                    315408|       Computing Skills|                           Y|                          null|                        null|          <em>e</em>VALUate|            2017 Semester 1|           Semester 1|         FAIL|                      Internal|                    Internal|    Computing Skills|                     1st Year|            Undergraduate|   COMP1003|              COMP1003|  Faculty of Scienc...|      School of Elec En...|         School of Elec En...|          School of Elec En...|              null|      Faculty of Scienc...|          School of Electri...|       Department of Com...|     Department of Com...|       26 - 50 Students|       > 10 and <= 100|    19135849|                      1|               Australian|  Citizenship - Dom...|       Male|                   Domestic|   => 10 and <= 100|               2017|             2017|2017-07-12 00:00:00|    166544G|                  Fee-Lee Lim|                 Lim, Fee-Lee|              Deactivated|          Not Applicable|            Deactivated|  Enabling Course f...|       Not Applicable|    Computing Skills|                    EN-SCENHL|                     Unknown|                   COMP1003|\n",
						"|2019 Semester 1-1...|2019 Semester 1-0...|2019 Semester 1-3...|2019 Semester 1-3...|2019 Semester 1-3...|              N|                null|2019 Semester 1-1...|2019 Semester 1-1...|2019 Semester 1-1...|0000605320-002171...|                null| null|1.0000000000|1.0000000000|         0E-10|         0E-10|          0E-10|            0E-10|0E-10|            1.0000000000|       0E-10|605320.0000000000|  19758615|32.0000000000|19806003.0000000000|21717964|2.0000000000|             N|              N|                  N|              N|                 N|              N|                  N|              N|2019 Semester 1-3...|               N|                 N|  66.0000000000| 16.0000000000|20 years or less|         Bentley Campus|           319306| Bachelor of Scien...|     Pass Award Levels|  B-ACTUAR|             B-ACTUAR|       Undergraduate|  Faculty of Scienc...|      School of Elec En...|          School of Elec En...|          School of Elec En...|              null|      Faculty of Scienc...|          School of Elec En...|        School of Elec En...|     School of Elec En...|          319192|Actuarial and App...|MJRU-ACTAP|           MJRU-ACTAP|                       6|                  Unit Survey|         Workload|         What helps achiev...|                    A|                  Agree|                 Agree|                  Full-Time|                 Full Year|           Semester 1|                    2019|                    315112|   Principles of Ins...|                           Y|                          null|                        null|          <em>e</em>VALUate|            2019 Semester 1|           Semester 1|          ENR|                      Internal|                    Internal|Principles of Ins...|                     1st Year|            Undergraduate|   ACTL1001|              ACTL1001|  Faculty of Scienc...|      School of Elec En...|         School of Elec En...|          School of Elec En...|              null|      Faculty of Scienc...|          School of Elec En...|       School of Elec En...|     School of Elec En...|      51 - 100 Students|       > 10 and <= 100|    19758615|                      1|               Australian|  Citizenship - Dom...|       Male|                   Domestic|   => 10 and <= 100|               2019|             2019|2019-07-10 00:00:00|    222260K|               Jo-Anne Morgan|              Morgan, Jo-Anne|                   Active|             Phasing Out|            Deactivated|  Bachelor of Scien...| Actuarial and App...|Principles of Ins...|                     B-ACTUAR|                  MJRU-ACTAP|                   ACTL1001|\n",
						"|2019 Trimester 3-...|2019 Trimester 3-...|2019 Trimester 3-...|2019 Trimester 3-...|                null|              N|2019 Trimester 3-...|                null|                null|2019 Trimester 3-...|                null|                null| null|       0E-10|       0E-10|         0E-10|         0E-10|          0E-10|            0E-10|0E-10|                   0E-10|1.0000000000|645550.0000000000|  20010089|28.0000000000|               null|22644602|3.0000000000|             N|              N|                  N|              N|                 N|              N|                  N|              N|                null|               N|                 N| 398.0000000000| 70.0000000000|     26-35 years|   Open Universities...|           319247| Open Universities...|           Not Entered| ON-OPNUNI|            ON-OPNUNI|               Other|      Student Services|        Student Management|                  OUA Programs|                  OUA Programs|              null|          Student Services|            Student Management|                OUA Programs|             OUA Programs|               0|             Unknown|    000000|               000000|                       2|                  Unit Survey|       Experience|         What helps achiev...|                   NA|         Not Applicable|        Not Applicable|                  Part-Time|          Second Half Only|        OpenUnis SP 3|                    2019|                    315557|   APC100 - Academic...|                           Y|                          null|                        null|          <em>e</em>VALUate|           2019 Trimester 3|          Trimester 3|          ENR|                      External|               Area External|APC100 - Academic...|                     1st Year|            Undergraduate|   COMS1007|              COMS1007|      Student Services|        Student Management|                 OUA Programs|                  OUA Programs|              null|          Student Services|            Student Management|               OUA Programs|             OUA Programs|     201 - 500 Students|     > 100 and <= 1000|    20010089|                     NA|              Not entered|  Citizenship - Not...|       Male|                Not Defined|   Greater than 100|               2019|             2019|2019-12-18 00:00:00|    211329E|                 Cathy Cupitt|                Cupitt, Cathy|                   Active|          Not Applicable|                 Active|  Open Universities...|       Not Applicable|APC100 - Academic...|                    ON-OPNUNI|                     Unknown|                   COMS1007|\n",
						"|2018 Semester 2-1...|2018 Semester 2-0...|2018 Semester 2-3...|2018 Semester 2-3...|                null|              N|                null|2018 Semester 2-1...|2018 Semester 2-1...|2018 Semester 2-1...|                null|0000577178-002114...| null|       0E-10|       0E-10|         0E-10|  1.0000000000|          0E-10|     1.0000000000|0E-10|            1.0000000000|       0E-10|577178.0000000000|  19567989|28.0000000000|19042726.0000000000|21141954|2.0000000000|             N|              N|                  N|              N|                 N|              N|                  N|              N|                null|               N|                 N| 230.0000000000| 43.0000000000|20 years or less|         Bentley Campus|           319562| Uniready Enabling...|           Not Entered| EN-UNIRDY|            EN-UNIRDY|               Other|  Centre for Enabli...|      Centre for Enabli...|          Centre for Enabli...|          Centre for Enabli...|              null|      Centre for Enabli...|          Centre for Enabli...|        Centre for Enabli...|     Centre for Enabli...|               0|             Unknown|    000000|               000000|                       2|                  Unit Survey|       Experience|         What helps achiev...|                   SD|      Strongly Disagree|              Disagree|                  Full-Time|          Second Half Only|           Semester 2|                    2018|                    318730|   Applying Mathematics|                           Y|                          null|                        null|          <em>e</em>VALUate|            2018 Semester 2|           Semester 2|          ENR|                      Internal|                    Internal|Applying Mathematics|               Not Applicable|            Undergraduate|   MATH0003|              MATH0003|  Centre for Enabli...|      Centre for Enabli...|         Centre for Enabli...|          Centre for Enabli...|              null|      Centre for Enabli...|          Centre for Enabli...|       Centre for Enabli...|     Centre for Enabli...|     201 - 500 Students|     > 100 and <= 1000|    19567989|                      1|               Australian|  Citizenship - Dom...|     Female|                   Domestic|   Greater than 100|               2018|             2018|2018-12-12 00:00:00|    268692C|           Danielle Griffiths|          Griffiths, Danielle|                   Active|          Not Applicable|                 Active|  Uniready Enabling...|       Not Applicable|  Mathematics Basics|                    EN-UNIRDY|                     Unknown|                   MATH0003|\n",
						"|2021 Semester 1-2...|2021 Semester 1-0...|2021 Semester 1-3...|2021 Semester 1-3...|                null|              N|                null|2021 Semester 1-2...|2021 Semester 1-2...|2021 Semester 1-2...|0000708071-002324...|                null| null|1.0000000000|       0E-10|  1.0000000000|         0E-10|          0E-10|            0E-10|0E-10|            1.0000000000|       0E-10|708071.0000000000|  20222130|36.0000000000|22234678.0000000000|23240294|2.0000000000|             N|              N|                  N|              N|                 N|              N|                  N|              N|                null|               N|                 N|  32.0000000000| 11.0000000000|     21-25 years|         Bentley Campus|           319503| Bachelor of Arts ...|      Pass and Honours|  B-URPLAN|             B-URPLAN|       Undergraduate|  Faculty of Humani...|      School of Design ...|          School of Design ...|          School of Design ...|              null|      Faculty of Humani...|          School of Design ...|        School of Design ...|     School of Design ...|               0|             Unknown|    000000|               000000|                      10|                  Unit Survey|      Think about|         Student motivatio...|                   SA|         Strongly Agree|                 Agree|                  Full-Time|                 Full Year|           Semester 1|                    2021|                    318110|   Planning for Housing|                           Y|                          null|                        null|          <em>e</em>VALUate|            2021 Semester 1|           Semester 1|         PASS|                      Internal|                    Internal|Planning for Housing|                     2nd Year|            Undergraduate|   URDE2006|              URDE2006|  Faculty of Humani...|      School of Design ...|         School of Design ...|          School of Design ...|              null|      Faculty of Humani...|          School of Design ...|       School of Design ...|     School of Design ...|       26 - 50 Students|       > 10 and <= 100|    20222130|                      1|               Australian|  Citizenship - Dom...|       Male|                   Domestic|   => 10 and <= 100|               2021|             2021|2021-07-14 00:00:00|    174645J|                 Shane Greive|                Greive, Shane|              Phasing Out|          Not Applicable|                 Active|  Bachelor of Arts ...|       Not Applicable|Planning for Housing|                     B-URPLAN|                     Unknown|                   URDE2006|\n",
						"|2019 Trimester 2-...|2019 Trimester 2-...|2019 Trimester 2-...|2019 Trimester 2-...|2019 Trimester 2-...|              N|                null|                null|                null|2019 Trimester 2-...|                null|                null| null|       0E-10|       0E-10|         0E-10|         0E-10|          0E-10|            0E-10|0E-10|                   0E-10|1.0000000000|628717.0000000000|  19940593|31.0000000000|               null|22289047|3.0000000000|             N|              N|                  N|              N|                 N|              N|                  N|              N|2019 Trimester 2-...|               N|                 N| 127.0000000000| 28.0000000000|     21-25 years|   Open Universities...|           321515| Master of Teachin...|     Pass Award Levels| OW-TEACH1|            OW-TEACH1|Postgraduate Cour...|      Student Services|        Student Management|                  OUA Programs|                  OUA Programs|              null|          Student Services|            Student Management|                OUA Programs|             OUA Programs|          320991|Primary Education...|OUMP-TCHPE|           OUMP-TCHPE|                       5|                  Unit Survey|         Feedback|         What helps achiev...|                   NA|         Not Applicable|        Not Applicable|                  Part-Time|                 Full Year|        OpenUnis SP 2|                    2019|                    320576|   MTP503 Developing...|                           Y|                          null|                        null|          <em>e</em>VALUate|           2019 Trimester 2|          Trimester 2|          ENR|                      External|               Area External|MTP503 Developing...|                     5th Year|             Postgraduate|   EDUC5013|              EDUC5013|      Student Services|        Student Management|                 OUA Programs|                  OUA Programs|              null|          Student Services|            Student Management|               OUA Programs|             OUA Programs|     101 - 200 Students|     > 100 and <= 1000|    19940593|                      1|               Australian|  Citizenship - Dom...|     Female|                   Domestic|   Greater than 100|               2019|             2019|2019-09-04 00:00:00|    236542E|                    Jia White|                   White, Jia|                   Active|                  Active|                 Active|  Master of Teachin...| Primary Education...|MTP503 Developing...|                    OW-TEACH1|                  OUMP-TCHPE|                   EDUC5013|\n",
						"|2019 Semester 2-1...|2019 Semester 2-0...|2019 Semester 2-3...|2019 Semester 2-3...|2019 Semester 2-3...|              N|                null|                null|                null|2019 Semester 2-1...|                null|                null| null|       0E-10|       0E-10|         0E-10|         0E-10|          0E-10|            0E-10|0E-10|                   0E-10|1.0000000000|636486.0000000000|  19140487|27.0000000000|               null|21919413|3.0000000000|             N|              N|                  N|              N|                 N|              N|                  N|              N|2019 Semester 2-3...|               N|                 N|  96.0000000000| 30.0000000000|     21-25 years|         Bentley Campus|           321834|   Bachelor of Design|     Pass Award Levels|  B-DESIGN|             B-DESIGN|       Undergraduate|  Faculty of Humani...|      Faculty of Humani...|          Faculty of Humani...|          Faculty of Humani...|              null|      Faculty of Humani...|          Faculty of Humani...|        Faculty of Humani...|     Faculty of Humani...|          321747|Graphic Design Major|MJRU-GRPDS|           MJRU-GRPDS|                       1|                  Unit Survey|         Outcomes|         What helps achiev...|                   NA|         Not Applicable|        Not Applicable|                  Full-Time|                 Full Year|           Semester 2|                    2019|                    316514|       Graphic Design 2|                           Y|                          null|                        null|          <em>e</em>VALUate|            2019 Semester 2|           Semester 2|          ENR|                      Internal|                    Internal|    Graphic Design 2|                     2nd Year|            Undergraduate|   GRDE2007|              GRDE2007|  Faculty of Humani...|      School of Design ...|         School of Design ...|          School of Design ...|              null|      Faculty of Humani...|          School of Design ...|       School of Design ...|     School of Design ...|      51 - 100 Students|       > 10 and <= 100|    19140487|                      1|               Australian|  Citizenship - Dom...|     Female|                   Domestic|   => 10 and <= 100|               2019|             2019|2019-12-11 00:00:00|    179794I|                   Lee Ingram|                  Ingram, Lee|                   Active|                  Active|                 Active|    Bachelor of Design| Graphic Design Major|    Graphic Design 2|                     B-DESIGN|                  MJRU-GRPDS|                   GRDE2007|\n",
						"|2021 Semester 1-2...|2021 Semester 1-0...|2021 Semester 1-3...|2021 Semester 1-3...|2021 Semester 1-3...|              N|                null|                null|                null|2021 Semester 1-2...|                null|                null| null|       0E-10|       0E-10|         0E-10|         0E-10|          0E-10|            0E-10|0E-10|                   0E-10|1.0000000000|708481.0000000000|  20192084|30.0000000000|               null|24369399|3.0000000000|             N|              N|                  N|              N|                 N|              N|                  N|              N|2021 Semester 1-3...|               N|                 N| 144.0000000000| 34.0000000000|20 years or less|         Bentley Campus|           319281| Bachelor of Laws,...|     Pass Award Levels| BB-LAWCOM|            BB-LAWCOM|       Undergraduate|  Faculty of Busine...|         Curtin Law School|             Curtin Law School|             Curtin Law School|              null|      Faculty of Busine...|             Curtin Law School|           Curtin Law School|        Curtin Law School|          319061|Human Resources M...|MDDU-HRMGM|           MDDU-HRMGM|                       4|                  Unit Survey|       Assessment|         What helps achiev...|                   NA|         Not Applicable|        Not Applicable|                  Full-Time|                 Full Year|           Semester 1|                    2021|                    319348|      Legal Foundations|                           Y|                          null|                        null|          <em>e</em>VALUate|            2021 Semester 1|           Semester 1|         PASS|                      Internal|                    Internal|   Legal Foundations|                     1st Year|            Undergraduate|   LAWS1005|              LAWS1005|  Faculty of Busine...|         Curtin Law School|            Curtin Law School|             Curtin Law School|              null|      Faculty of Busine...|             Curtin Law School|          Curtin Law School|        Curtin Law School|     101 - 200 Students|     > 100 and <= 1000|    20192084|                      1|               Australian|  Citizenship - Dom...|     Female|                   Domestic|   Greater than 100|               2021|             2021|2021-07-14 00:00:00|    282598I|               Martin Allcock|              Allcock, Martin|                   Active|                  Active|                 Active|  Bachelor of Laws,...| Human Resources M...|   Legal Foundations|                    BB-LAWCOM|                  MDDU-HRMGM|                   LAWS1005|\n",
						"+--------------------+--------------------+--------------------+--------------------+--------------------+---------------+--------------------+--------------------+--------------------+--------------------+--------------------+--------------------+-----+------------+------------+--------------+--------------+---------------+-----------------+-----+------------------------+------------+-----------------+----------+-------------+-------------------+--------+------------+--------------+---------------+-------------------+---------------+------------------+---------------+-------------------+---------------+--------------------+----------------+------------------+---------------+--------------+----------------+-----------------------+-----------------+---------------------+----------------------+----------+---------------------+--------------------+----------------------+--------------------------+------------------------------+------------------------------+------------------+--------------------------+------------------------------+----------------------------+-------------------------+----------------+--------------------+----------+---------------------+------------------------+-----------------------------+-----------------+-----------------------------+---------------------+-----------------------+----------------------+---------------------------+--------------------------+---------------------+------------------------+--------------------------+-----------------------+----------------------------+------------------------------+----------------------------+---------------------------+---------------------------+---------------------+-------------+------------------------------+----------------------------+--------------------+-----------------------------+-------------------------+-----------+----------------------+----------------------+--------------------------+-----------------------------+------------------------------+------------------+--------------------------+------------------------------+---------------------------+-------------------------+-----------------------+----------------------+------------+-----------------------+-------------------------+----------------------+-----------+---------------------------+-------------------+-------------------+-----------------+-------------------+-----------+-----------------------------+-----------------------------+-------------------------+------------------------+-----------------------+----------------------+---------------------+--------------------+-----------------------------+----------------------------+---------------------------+\n",
						"only showing top 20 rows\n",
						"\n",
						"/opt/amazon/spark/python/lib/pyspark.zip/pyspark/sql/dataframe.py:127: UserWarning: DataFrame constructor is internal. Do not directly use it.\n"
					]
				}
			],
			"source": [
				"df = dyf.toDF()\n",
				"df.show()"
			]
		},
		{
			"cell_type": "code",
			"execution_count": null,
			"metadata": {
				"tags": [],
				"trusted": true,
				"vscode": {
					"languageId": "python_glue_session"
				}
			},
			"outputs": [],
			"source": [
				"dyf = dyf.coalesce(1)\n",
				"glueContext.write_dynamic_frame.from_options(\n",
				"    frame=dyf,\n",
				"    connection_type=\"s3\",\n",
				"    format= \"glueparquet\",\n",
				"    connection_options={\n",
				"        \"path\": \"s3://bi-oracle-123456/evaluate_flat\",\n",
				"        \"partitionKeys\":[],\n",
				"        },\n",
				"    transformation_ctx=\"s3output\")\n",
				"job.commit()"
			]
		}
	],
	"metadata": {
		"kernelspec": {
			"display_name": "Glue PySpark",
			"language": "python",
			"name": "glue_pyspark"
		},
		"language_info": {
			"codemirror_mode": {
				"name": "python",
				"version": 3
			},
			"file_extension": ".py",
			"mimetype": "text/x-python",
			"name": "Python_Glue_Session",
			"pygments_lexer": "python3"
		}
	},
	"nbformat": 4,
	"nbformat_minor": 4
}
